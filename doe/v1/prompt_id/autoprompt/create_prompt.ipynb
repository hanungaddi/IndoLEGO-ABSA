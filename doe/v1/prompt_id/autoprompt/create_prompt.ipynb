{
 "cells": [
  {
   "cell_type": "code",
   "execution_count": 1,
   "metadata": {},
   "outputs": [],
   "source": [
    "task_token = {\n",
    "    \"aos\" : [\"empfehlung\", \"positive\", \"удов\", \"erbesserung\", \"elief\"],\n",
    "    \"ao\" : [\"თქმ\", \"მყოფ\", \"ījums\", \"გონ\", \"აკ\"],\n",
    "    \"as\" : [\"gips\", \"gabe\", \"фти\", \"budowa\", \"vami\"],\n",
    "    \"a\" : [\"uzlu\", \"vsta\", \"Vidu\", \"urfi\", \"vlje\"],\n",
    "    \"o\" : [\"ronologi\", \"OBS\", \"当時は\", \"piller\", \"ണ്ടു\"]\n",
    "}"
   ]
  },
  {
   "cell_type": "code",
   "execution_count": 2,
   "metadata": {},
   "outputs": [],
   "source": [
    "trigger_token = ['<unk>', '▁lief', '<unk>']"
   ]
  },
  {
   "cell_type": "code",
   "execution_count": 3,
   "metadata": {},
   "outputs": [
    {
     "name": "stderr",
     "output_type": "stream",
     "text": [
      "/home/m13519061/anaconda3/envs/absa/lib/python3.9/site-packages/transformers/convert_slow_tokenizer.py:446: UserWarning: The sentencepiece tokenizer that you are converting to a fast tokenizer uses the byte fallback option which is not implemented in the fast tokenizers. In practice this means that the fast version of the tokenizer can produce unknown tokens whereas the sentencepiece version would have converted these unknown tokens into a sequence of byte tokens matching the original piece of text.\n",
      "  warnings.warn(\n"
     ]
    }
   ],
   "source": [
    "from transformers import AutoTokenizer\n",
    "\n",
    "tokenizer = AutoTokenizer.from_pretrained(\"google/mt5-base\")"
   ]
  },
  {
   "cell_type": "code",
   "execution_count": 4,
   "metadata": {},
   "outputs": [],
   "source": [
    "vocab = tokenizer.get_vocab()"
   ]
  },
  {
   "cell_type": "code",
   "execution_count": 5,
   "metadata": {},
   "outputs": [
    {
     "name": "stdout",
     "output_type": "stream",
     "text": [
      "Predict token id for task aos : 227488\n",
      "Predict token id for task ao : 44188\n",
      "Predict token id for task as : 226425\n",
      "Predict token id for task a : 137340\n",
      "Predict token id for task o : 234525\n"
     ]
    }
   ],
   "source": [
    "for task in task_token.keys():\n",
    "    print(f\"Predict token id for task {task} : {vocab[task_token[task][0]]}\")"
   ]
  },
  {
   "cell_type": "code",
   "execution_count": 6,
   "metadata": {},
   "outputs": [
    {
     "name": "stdout",
     "output_type": "stream",
     "text": [
      "Trigger token id <unk> : 2\n",
      "Trigger token id ▁lief : 75407\n",
      "Trigger token id <unk> : 2\n"
     ]
    }
   ],
   "source": [
    "for tok in trigger_token:\n",
    "    print(f\"Trigger token id {tok} : {vocab[tok]}\")"
   ]
  },
  {
   "cell_type": "code",
   "execution_count": 10,
   "metadata": {},
   "outputs": [
    {
     "name": "stdout",
     "output_type": "stream",
     "text": [
      "Prompt for task aos : empfehlung<unk> lief<unk>\n",
      "Prompt for task ao : თქმ<unk> lief<unk>\n",
      "Prompt for task as : gips<unk> lief<unk>\n",
      "Prompt for task a : uzlu<unk> lief<unk>\n",
      "Prompt for task o : ronologi<unk> lief<unk>\n"
     ]
    }
   ],
   "source": [
    "for task in task_token.keys():\n",
    "    prompt_id = [vocab[task_token[task][0]]] + [vocab[el] for el in trigger_token]\n",
    "    prompt = tokenizer.decode(prompt_id)\n",
    "    print(f\"Prompt for task {task} : {prompt}\")"
   ]
  },
  {
   "cell_type": "code",
   "execution_count": 11,
   "metadata": {},
   "outputs": [
    {
     "data": {
      "text/plain": [
       "[259, 227488, 2, 75407, 2, 1]"
      ]
     },
     "execution_count": 11,
     "metadata": {},
     "output_type": "execute_result"
    }
   ],
   "source": [
    "tokenizer.encode(\"empfehlung<unk> lief<unk>\")"
   ]
  },
  {
   "cell_type": "code",
   "execution_count": null,
   "metadata": {},
   "outputs": [],
   "source": []
  }
 ],
 "metadata": {
  "kernelspec": {
   "display_name": "absa",
   "language": "python",
   "name": "python3"
  },
  "language_info": {
   "codemirror_mode": {
    "name": "ipython",
    "version": 3
   },
   "file_extension": ".py",
   "mimetype": "text/x-python",
   "name": "python",
   "nbconvert_exporter": "python",
   "pygments_lexer": "ipython3",
   "version": "3.9.16"
  },
  "orig_nbformat": 4
 },
 "nbformat": 4,
 "nbformat_minor": 2
}
