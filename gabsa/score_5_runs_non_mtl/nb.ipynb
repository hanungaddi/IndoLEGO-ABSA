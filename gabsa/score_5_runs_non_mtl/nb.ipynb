{
 "cells": [
  {
   "cell_type": "code",
   "execution_count": 1,
   "metadata": {},
   "outputs": [],
   "source": [
    "import os\n",
    "import pandas as pd\n",
    "import json\n",
    "\n",
    "seeds = [0,17,42,123,500]\n",
    "ds_name = [\"aste_data_v2_14lap\",\"aste_data_v2_14res\",\"aste_data_v2_15res\",\"aste_data_v2_16res\",\"hotel_id_v2\"]\n",
    "task = [\"aste\"]\n",
    "\n",
    "summary = {\n",
    "    \"raw\" : [],\n",
    "    \"editdistance\" : [],\n",
    "    \"cut\" : [],\n",
    "    \"remove\" : []\n",
    "}"
   ]
  },
  {
   "cell_type": "code",
   "execution_count": 2,
   "metadata": {},
   "outputs": [],
   "source": [
    "for s in seeds:\n",
    "    for ds in ds_name:\n",
    "        path = f\"r{s}/{ds}/prediction_metrics.json\"\n",
    "        with open(path,'r') as f:\n",
    "            data = json.load(f)\n",
    "        for k,v in data.items():\n",
    "            new_entry = {\n",
    "                \"random_seed\" : s,\n",
    "                \"dataset\" : ds\n",
    "            }\n",
    "            for t in task:\n",
    "                new_entry[f\"{t}_edit_f1\"] = data[k][f\"{t}_edit_f1\"]\n",
    "            summary[k].append(new_entry)\n"
   ]
  },
  {
   "cell_type": "code",
   "execution_count": 3,
   "metadata": {},
   "outputs": [],
   "source": [
    "for k,v in summary.items():\n",
    "    df = pd.DataFrame(v)\n",
    "    df.to_csv(f\"summary_{k}_edit_f1.csv\",index=False)"
   ]
  },
  {
   "cell_type": "code",
   "execution_count": null,
   "metadata": {},
   "outputs": [],
   "source": []
  }
 ],
 "metadata": {
  "kernelspec": {
   "display_name": "base",
   "language": "python",
   "name": "python3"
  },
  "language_info": {
   "codemirror_mode": {
    "name": "ipython",
    "version": 3
   },
   "file_extension": ".py",
   "mimetype": "text/x-python",
   "name": "python",
   "nbconvert_exporter": "python",
   "pygments_lexer": "ipython3",
   "version": "3.9.7"
  },
  "orig_nbformat": 4,
  "vscode": {
   "interpreter": {
    "hash": "f5045f1ed516028e6ba3c78ae58e34f2955ee8afe7e35fc1835a968676e80520"
   }
  }
 },
 "nbformat": 4,
 "nbformat_minor": 2
}
