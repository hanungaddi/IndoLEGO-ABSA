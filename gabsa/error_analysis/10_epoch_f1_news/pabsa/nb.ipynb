{
 "cells": [
  {
   "cell_type": "markdown",
   "metadata": {},
   "source": [
    "error analysis\n",
    "\n",
    "1. document length (word length)\n",
    "2. token length (from tokenizer)\n",
    "3. pos tag\n",
    "4. syntactic analysis (liat pola ekstraksi)\n",
    "5. menggunakan word2vec liat kata2nya dan cari pola kesamaannya (mengandung kata2 yang senada, liat cosine similaritynya)\n"
   ]
  },
  {
   "cell_type": "code",
   "execution_count": 2,
   "metadata": {},
   "outputs": [
    {
     "name": "stderr",
     "output_type": "stream",
     "text": [
      "/home/randy.suchrady/anaconda3/envs/absa/lib/python3.9/site-packages/tqdm/auto.py:22: TqdmWarning: IProgress not found. Please update jupyter and ipywidgets. See https://ipywidgets.readthedocs.io/en/stable/user_install.html\n",
      "  from .autonotebook import tqdm as notebook_tqdm\n"
     ]
    }
   ],
   "source": [
    "import pandas as pd\n",
    "from transformers import T5Tokenizer\n",
    "import re\n",
    "import nltk"
   ]
  },
  {
   "cell_type": "code",
   "execution_count": 16,
   "metadata": {},
   "outputs": [],
   "source": [
    "model_name_or_path = \"/srv/nas_data1/text/randy/absa/models/facebook_research_10/generative/t5/t5_pabsa_S256_wid_small_blank=1.0\"\n",
    "not_pattern_char_regex = r\"[^\\(\\),;]+\"\n",
    "regex_pattern = rf\"\\(\\s?{not_pattern_char_regex}\\s?,\\s?{not_pattern_char_regex}\\s?,\\s?(positive|negative|neutral)\\s?\\)\"\n",
    "regex_pattern = re.compile(regex_pattern)"
   ]
  },
  {
   "cell_type": "code",
   "execution_count": 17,
   "metadata": {},
   "outputs": [],
   "source": [
    "tokenizer = T5Tokenizer.from_pretrained(model_name_or_path)"
   ]
  },
  {
   "cell_type": "code",
   "execution_count": 58,
   "metadata": {},
   "outputs": [],
   "source": [
    "news_prediction_path = \"./news_test/aste/prediction.csv\"\n",
    "socmed_prediction_path = \"./socmed_test/aste/prediction.csv\"\n",
    "train_path = \"./train.csv\"\n",
    "\n",
    "news_pred = pd.read_csv(news_prediction_path)\n",
    "socmed_pred = pd.read_csv(socmed_prediction_path)\n",
    "train = pd.read_csv(train_path)"
   ]
  },
  {
   "cell_type": "code",
   "execution_count": 15,
   "metadata": {},
   "outputs": [],
   "source": [
    "def count_input_token_length(row):\n",
    "    text = row.text\n",
    "    prompt = row.prompt\n",
    "\n",
    "    inputs = prompt + \" \" + text\n",
    "\n",
    "    return len(tokenizer.tokenize(inputs))"
   ]
  },
  {
   "cell_type": "code",
   "execution_count": 60,
   "metadata": {},
   "outputs": [],
   "source": [
    "news_pred[\"n_token\"] = news_pred.apply(count_input_token_length,axis=1)\n",
    "socmed_pred[\"n_token\"] = socmed_pred.apply(count_input_token_length,axis=1)\n",
    "train[\"n_token\"] = train.input.apply(lambda x : len(tokenizer.tokenize(x)))"
   ]
  },
  {
   "cell_type": "code",
   "execution_count": 21,
   "metadata": {},
   "outputs": [],
   "source": [
    "def is_extract_format_true(x):\n",
    "    if x.strip() == \"NONE\":\n",
    "        return True\n",
    "    splitted_x = x.split(';')\n",
    "    splitted_x = [el.strip() for el in splitted_x]\n",
    "    for el in splitted_x:\n",
    "        if not bool(regex_pattern.match(el)):\n",
    "            return False\n",
    "    return True"
   ]
  },
  {
   "cell_type": "code",
   "execution_count": 22,
   "metadata": {},
   "outputs": [],
   "source": [
    "news_pred[\"true_format\"] = news_pred.string_preds.apply(is_extract_format_true)\n",
    "socmed_pred[\"true_format\"] = socmed_pred.string_preds.apply(is_extract_format_true)"
   ]
  },
  {
   "cell_type": "code",
   "execution_count": 31,
   "metadata": {},
   "outputs": [],
   "source": [
    "def set_list_of_dict(l):\n",
    "    result = [str(el) for el in l]\n",
    "    result = list(set(result))\n",
    "    result = [eval(el) for el in result]\n",
    "    return result\n",
    "\n",
    "def equal_pred_and_target(pred_,target_):\n",
    "    pred = set_list_of_dict(eval(pred_))\n",
    "    target = set_list_of_dict(eval(target_))\n",
    "\n",
    "    if len(pred) != len(target):\n",
    "        return False\n",
    "    \n",
    "    if len(pred) == 0:\n",
    "        return True\n",
    "    \n",
    "    for p in pred:\n",
    "        if p not in target:\n",
    "            return False\n",
    "    return True"
   ]
  },
  {
   "cell_type": "code",
   "execution_count": 36,
   "metadata": {},
   "outputs": [],
   "source": [
    "false_news_condition = news_pred.apply(lambda x: not equal_pred_and_target(x.raw_prediction,x.target),axis=1)\n",
    "false_socmed_condition = socmed_pred.apply(lambda x: not equal_pred_and_target(x.raw_prediction,x.target),axis=1)"
   ]
  },
  {
   "cell_type": "code",
   "execution_count": 37,
   "metadata": {},
   "outputs": [],
   "source": [
    "false_news = news_pred.loc[false_news_condition]\n",
    "false_socmed = socmed_pred.loc[false_socmed_condition]"
   ]
  },
  {
   "cell_type": "markdown",
   "metadata": {},
   "source": [
    "# Token Length Analysis"
   ]
  },
  {
   "cell_type": "markdown",
   "metadata": {},
   "source": [
    "## Test data"
   ]
  },
  {
   "cell_type": "code",
   "execution_count": 62,
   "metadata": {},
   "outputs": [
    {
     "name": "stdout",
     "output_type": "stream",
     "text": [
      "count    117.000000\n",
      "mean      46.316239\n",
      "std       36.267837\n",
      "min       19.000000\n",
      "25%       30.000000\n",
      "50%       40.000000\n",
      "75%       52.000000\n",
      "max      359.000000\n",
      "Name: n_token, dtype: float64\n"
     ]
    }
   ],
   "source": [
    "print(false_news.n_token.describe())"
   ]
  },
  {
   "cell_type": "code",
   "execution_count": 63,
   "metadata": {},
   "outputs": [
    {
     "name": "stdout",
     "output_type": "stream",
     "text": [
      "count    559.000000\n",
      "mean      55.279070\n",
      "std       20.565154\n",
      "min       20.000000\n",
      "25%       40.500000\n",
      "50%       52.000000\n",
      "75%       66.500000\n",
      "max      184.000000\n",
      "Name: n_token, dtype: float64\n"
     ]
    }
   ],
   "source": [
    "print(false_socmed.n_token.describe())"
   ]
  },
  {
   "cell_type": "code",
   "execution_count": 3,
   "metadata": {},
   "outputs": [],
   "source": [
    "import matplotlib.pyplot as plt"
   ]
  },
  {
   "cell_type": "code",
   "execution_count": 57,
   "metadata": {},
   "outputs": [
    {
     "data": {
      "image/png": "[encoded data removed]",
      "text/plain": [
       "<Figure size 1200x400 with 2 Axes>"
      ]
     },
     "metadata": {},
     "output_type": "display_data"
    }
   ],
   "source": [
    "fig,ax = plt.subplots(1,2,figsize=(12, 4))\n",
    "\n",
    "ax[0].hist(false_news.n_token,bins=20)\n",
    "ax[0].set_title(\"# Token in news test data\")\n",
    "\n",
    "ax[1].hist(false_socmed.n_token,bins=20)\n",
    "ax[1].set_title(\"# Token in socmed test data\")\n",
    "\n",
    "plt.show()"
   ]
  },
  {
   "cell_type": "code",
   "execution_count": 90,
   "metadata": {},
   "outputs": [],
   "source": [
    "false_news_more_than_256 = false_news.loc[false_news.n_token > 256].shape[0]\n",
    "false_socmed_more_than_256 = false_socmed.loc[false_socmed.n_token > 256].shape[0]"
   ]
  },
  {
   "cell_type": "code",
   "execution_count": 91,
   "metadata": {},
   "outputs": [
    {
     "name": "stdout",
     "output_type": "stream",
     "text": [
      "1\n"
     ]
    }
   ],
   "source": [
    "print(false_news_more_than_256)"
   ]
  },
  {
   "cell_type": "code",
   "execution_count": 93,
   "metadata": {},
   "outputs": [
    {
     "name": "stdout",
     "output_type": "stream",
     "text": [
      "0\n"
     ]
    }
   ],
   "source": [
    "print(false_socmed_more_than_256)"
   ]
  },
  {
   "cell_type": "markdown",
   "metadata": {},
   "source": [
    "## Training data"
   ]
  },
  {
   "cell_type": "code",
   "execution_count": 64,
   "metadata": {},
   "outputs": [
    {
     "name": "stdout",
     "output_type": "stream",
     "text": [
      "count    14473.000000\n",
      "mean        41.889657\n",
      "std         33.689298\n",
      "min          9.000000\n",
      "25%         25.000000\n",
      "50%         35.000000\n",
      "75%         52.000000\n",
      "max       1351.000000\n",
      "Name: n_token, dtype: float64\n"
     ]
    }
   ],
   "source": [
    "aste_train = train.loc[train.task == \"aste\"]\n",
    "\n",
    "print(aste_train.n_token.describe())"
   ]
  },
  {
   "cell_type": "code",
   "execution_count": 77,
   "metadata": {},
   "outputs": [
    {
     "data": {
      "text/plain": [
       "28"
      ]
     },
     "execution_count": 77,
     "metadata": {},
     "output_type": "execute_result"
    }
   ],
   "source": [
    "len(nltk.tokenize.sent_tokenize(aste_train.loc[aste_train.n_token == 1351].text.iloc[0]))"
   ]
  },
  {
   "cell_type": "code",
   "execution_count": 65,
   "metadata": {},
   "outputs": [
    {
     "data": {
      "image/png": "[encoded data removed]",
      "text/plain": [
       "<Figure size 640x480 with 1 Axes>"
      ]
     },
     "metadata": {},
     "output_type": "display_data"
    }
   ],
   "source": [
    "plt.hist(aste_train.n_token,bins=20)\n",
    "plt.title(\"# Token in training data\")\n",
    "plt.show()"
   ]
  },
  {
   "cell_type": "code",
   "execution_count": 94,
   "metadata": {},
   "outputs": [],
   "source": [
    "train_more_than_256 = train.loc[train.n_token > 256].shape[0]"
   ]
  },
  {
   "cell_type": "code",
   "execution_count": 95,
   "metadata": {},
   "outputs": [
    {
     "name": "stdout",
     "output_type": "stream",
     "text": [
      "142\n"
     ]
    }
   ],
   "source": [
    "print(train_more_than_256)"
   ]
  },
  {
   "cell_type": "markdown",
   "metadata": {},
   "source": [
    "# OOV"
   ]
  },
  {
   "cell_type": "code",
   "execution_count": 107,
   "metadata": {},
   "outputs": [
    {
     "data": {
      "text/plain": [
       "'aku suka kamu'"
      ]
     },
     "execution_count": 107,
     "metadata": {},
     "output_type": "execute_result"
    }
   ],
   "source": [
    "tokenizer.convert_tokens_to_string(tokenizer.tokenize(\"aku suka kamu\"))"
   ]
  },
  {
   "cell_type": "code",
   "execution_count": 109,
   "metadata": {},
   "outputs": [],
   "source": [
    "def is_tokenized_well(text):\n",
    "    text1 = text.replace(\" \",\"\")\n",
    "    text2 = tokenizer.convert_tokens_to_string(tokenizer.tokenize(text)).replace(\" \",\"\")\n",
    "    return text1 == text2"
   ]
  },
  {
   "cell_type": "code",
   "execution_count": 118,
   "metadata": {},
   "outputs": [
    {
     "name": "stderr",
     "output_type": "stream",
     "text": [
      "/tmp/ipykernel_38373/3338247691.py:1: SettingWithCopyWarning: \n",
      "A value is trying to be set on a copy of a slice from a DataFrame.\n",
      "Try using .loc[row_indexer,col_indexer] = value instead\n",
      "\n",
      "See the caveats in the documentation: https://pandas.pydata.org/pandas-docs/stable/user_guide/indexing.html#returning-a-view-versus-a-copy\n",
      "  false_news[\"is_tokenized_well\"] = false_news.text.apply(is_tokenized_well)\n"
     ]
    }
   ],
   "source": [
    "false_news[\"is_tokenized_well\"] = false_news.text.apply(is_tokenized_well)\n",
    "false_socmed[\"is_tokenized_well\"] = false_socmed.text.apply(is_tokenized_well)\n",
    "train[\"is_tokenized_well\"] = train.text.apply(is_tokenized_well)"
   ]
  },
  {
   "cell_type": "code",
   "execution_count": 115,
   "metadata": {},
   "outputs": [
    {
     "data": {
      "text/html": [
       "<div>\n",
       "<style scoped>\n",
       "    .dataframe tbody tr th:only-of-type {\n",
       "        vertical-align: middle;\n",
       "    }\n",
       "\n",
       "    .dataframe tbody tr th {\n",
       "        vertical-align: top;\n",
       "    }\n",
       "\n",
       "    .dataframe thead th {\n",
       "        text-align: right;\n",
       "    }\n",
       "</style>\n",
       "<table border=\"1\" class=\"dataframe\">\n",
       "  <thead>\n",
       "    <tr style=\"text-align: right;\">\n",
       "      <th></th>\n",
       "      <th>text</th>\n",
       "      <th>prompt</th>\n",
       "      <th>target</th>\n",
       "      <th>raw_prediction</th>\n",
       "      <th>editdistance_prediction</th>\n",
       "      <th>cut_predictions</th>\n",
       "      <th>remove_predictions</th>\n",
       "      <th>string_preds</th>\n",
       "      <th>n_token</th>\n",
       "      <th>true_format</th>\n",
       "      <th>pos_tag</th>\n",
       "      <th>is_tokenized_well</th>\n",
       "    </tr>\n",
       "  </thead>\n",
       "  <tbody>\n",
       "  </tbody>\n",
       "</table>\n",
       "</div>"
      ],
      "text/plain": [
       "Empty DataFrame\n",
       "Columns: [text, prompt, target, raw_prediction, editdistance_prediction, cut_predictions, remove_predictions, string_preds, n_token, true_format, pos_tag, is_tokenized_well]\n",
       "Index: []"
      ]
     },
     "execution_count": 115,
     "metadata": {},
     "output_type": "execute_result"
    }
   ],
   "source": [
    "false_news.loc[~false_news.is_tokenized_well]"
   ]
  },
  {
   "cell_type": "code",
   "execution_count": 116,
   "metadata": {},
   "outputs": [
    {
     "data": {
      "text/html": [
       "<div>\n",
       "<style scoped>\n",
       "    .dataframe tbody tr th:only-of-type {\n",
       "        vertical-align: middle;\n",
       "    }\n",
       "\n",
       "    .dataframe tbody tr th {\n",
       "        vertical-align: top;\n",
       "    }\n",
       "\n",
       "    .dataframe thead th {\n",
       "        text-align: right;\n",
       "    }\n",
       "</style>\n",
       "<table border=\"1\" class=\"dataframe\">\n",
       "  <thead>\n",
       "    <tr style=\"text-align: right;\">\n",
       "      <th></th>\n",
       "      <th>text</th>\n",
       "      <th>prompt</th>\n",
       "      <th>target</th>\n",
       "      <th>raw_prediction</th>\n",
       "      <th>editdistance_prediction</th>\n",
       "      <th>cut_predictions</th>\n",
       "      <th>remove_predictions</th>\n",
       "      <th>string_preds</th>\n",
       "      <th>n_token</th>\n",
       "      <th>true_format</th>\n",
       "      <th>pos_tag</th>\n",
       "      <th>is_tokenized_well</th>\n",
       "    </tr>\n",
       "  </thead>\n",
       "  <tbody>\n",
       "  </tbody>\n",
       "</table>\n",
       "</div>"
      ],
      "text/plain": [
       "Empty DataFrame\n",
       "Columns: [text, prompt, target, raw_prediction, editdistance_prediction, cut_predictions, remove_predictions, string_preds, n_token, true_format, pos_tag, is_tokenized_well]\n",
       "Index: []"
      ]
     },
     "execution_count": 116,
     "metadata": {},
     "output_type": "execute_result"
    }
   ],
   "source": [
    "false_socmed.loc[~false_socmed.is_tokenized_well]"
   ]
  },
  {
   "cell_type": "code",
   "execution_count": 119,
   "metadata": {},
   "outputs": [
    {
     "data": {
      "text/html": [
       "<div>\n",
       "<style scoped>\n",
       "    .dataframe tbody tr th:only-of-type {\n",
       "        vertical-align: middle;\n",
       "    }\n",
       "\n",
       "    .dataframe tbody tr th {\n",
       "        vertical-align: top;\n",
       "    }\n",
       "\n",
       "    .dataframe thead th {\n",
       "        text-align: right;\n",
       "    }\n",
       "</style>\n",
       "<table border=\"1\" class=\"dataframe\">\n",
       "  <thead>\n",
       "    <tr style=\"text-align: right;\">\n",
       "      <th></th>\n",
       "      <th>text</th>\n",
       "      <th>target</th>\n",
       "      <th>num_target</th>\n",
       "      <th>task</th>\n",
       "      <th>input</th>\n",
       "      <th>prompt</th>\n",
       "      <th>n_token</th>\n",
       "      <th>is_tokenized_well</th>\n",
       "    </tr>\n",
       "  </thead>\n",
       "  <tbody>\n",
       "  </tbody>\n",
       "</table>\n",
       "</div>"
      ],
      "text/plain": [
       "Empty DataFrame\n",
       "Columns: [text, target, num_target, task, input, prompt, n_token, is_tokenized_well]\n",
       "Index: []"
      ]
     },
     "execution_count": 119,
     "metadata": {},
     "output_type": "execute_result"
    }
   ],
   "source": [
    "train.loc[~train.is_tokenized_well]"
   ]
  },
  {
   "cell_type": "markdown",
   "metadata": {},
   "source": [
    "# Extraction Format Analysis"
   ]
  },
  {
   "cell_type": "code",
   "execution_count": 81,
   "metadata": {},
   "outputs": [],
   "source": [
    "false_news_false_format = false_news.loc[~false_news.true_format]\n",
    "false_socmed_false_format = false_socmed.loc[~false_socmed.true_format]"
   ]
  },
  {
   "cell_type": "code",
   "execution_count": 88,
   "metadata": {},
   "outputs": [
    {
     "name": "stdout",
     "output_type": "stream",
     "text": [
      "\" Ada enggak seneng nya karena kita bakal ada yang macet , yang tadi saya bilang ada demo gitu-gitu , \" ujar Syifa seperti dikutip YouTube Sekretariat Presiden , Sabtu ( 19 / 3 ) .\n",
      "\n",
      "Ia mengaku hati nya terasa berat ketika melihat fan atau ARMY tidak bisa ikut bersorak , tepuk tangan , dan berdiri selama konser .\n",
      "\n"
     ]
    }
   ],
   "source": [
    "for el in false_news_false_format[\"text\"]:\n",
    "    print(el)\n",
    "    print()"
   ]
  },
  {
   "cell_type": "code",
   "execution_count": 86,
   "metadata": {},
   "outputs": [
    {
     "name": "stdout",
     "output_type": "stream",
     "text": [
      "( ada enggak seneng, negative ) ; ( ada, macet, negative ) ; ( demo, ada, negative )\n",
      "\n",
      "( hati nya terasa berat, negative ) ; ( ARMY, tidak bisa ikut bersorak, negative )\n",
      "\n"
     ]
    }
   ],
   "source": [
    "for el in false_news_false_format[\"string_preds\"]:\n",
    "    print(el)\n",
    "    print()"
   ]
  },
  {
   "cell_type": "code",
   "execution_count": 89,
   "metadata": {},
   "outputs": [
    {
     "name": "stdout",
     "output_type": "stream",
     "text": [
      "Sementara jutaan anak Indonesia lain , berbulan-bulan cuma bengong selama pembelajaran jarak jauh . Orangtua kurang educated , ga bisa ngajarin di rumah . Sekolah memberi tugas tanpa penjelasan . Beruntung anak-anak yang punya previledge orangtua berpendidikan dan berpengalaman .\n",
      "\n",
      "Blibli pengiriman barang nya tepat waktu dan customer care nya tanggap banget . Kemarin saya beli barang dan gak nyampe-nyampe langsung hubungi customer care dan ditangani dengan baik . Mantap\n",
      "\n",
      "Senang belanja di sini sebab ada potongan ongkos kirim bahkan gratis pake instan ataupun sameday . . . aplikasi yang bagus pertahankan gratis ongkir nya yaa blibli . . .\n",
      "\n",
      "Aplikasi sangat bagus , terutama di masa pandemi ini untuk menghindari kontak langsung dan penggunaan uang tunai . Namun sangat disayangkan sekali banyak kendala2 yg dirasakan oleh pengguna salah satu nya saya sendiri saat akan menggunakan aplikasi ini , tidak semua spbu sudah ada aplikasi ini , klopun ada rata2 pada jawab gak bisa krn jaringan lama , mungkin itu yg buat petugas ambil simple dan cepat nya jawab gak bisa apalagi klo antrian lagi rame . Akhirnya tetep aja bayar pake tunai .\n",
      "\n",
      "Saya puas banget pake blibli , banyak promo , ongkir nya murah dan paling bisa diandalkan deh . Nggak mau ganti ke yang lain . Soal nya yang lain nggak sebaik blibli gan\n",
      "\n",
      "Blibli Good , user friendly aplikasi nya . Banyak promo cashback dan discount , gratis ongkir jg . Produk yg saya dapat ori . Bisa tuker tambah hape juga . Pengiriman cepat pakai blibli express . Mantaplah\n",
      "\n"
     ]
    }
   ],
   "source": [
    "for el in false_socmed_false_format[\"text\"]:\n",
    "    print(el)\n",
    "    print()"
   ]
  },
  {
   "cell_type": "code",
   "execution_count": 87,
   "metadata": {},
   "outputs": [
    {
     "name": "stdout",
     "output_type": "stream",
     "text": [
      "( Orangtua, kurang educated, negative ) ; ( Orangtua, ga bisa ngajarin di rumah, negative ) ; ( orangtua, berpendidikan, positive ) ; ( orangtua, berpengalaman, positive ) ; ( ngajarin di rumah, ga bisa ngajarin di rumah, negative ) ; ( ngajarin di rumah, ga bisa ngajarin di rumah, negative ) ; ( ngajarin di rumah, negative ) ; ( orangtua, berpendidikan, positive ) ; ( orangtua, punya previledge, positive )\n",
      "\n",
      "( pengiriman barang, tepat waktu, positive ) ; ( pengiriman barang, tanggap banget, positive ) ; ( customer care, tanggap banget, positive ) ; ( hubungi, langsung hubungi customer care, positive ) ; ( ditangani, baik, positive ) ; ( Mantap, positive )\n",
      "\n",
      "( belanja, Senang, positive ) ; ( potongan ongkos kirim, ada, positive ) ; ( gratis, positive ) ; ( aplikasi, bagus, positive )\n",
      "\n",
      "( Aplikasi, sangat bagus, positive ) ; ( Aplikasi, sangat disayangkan sekali, negative ) ; ( Aplikasi, banyak kendala2, negative ) ; ( aplikasi, simple, positive ) ; ( aplikasi, cepat, positive ) ; ( jawab, gak bisa, negative ) ; ( jawab, gak bisa, negative ) ; ( jawab, gak bisa, negative ) ; ( jawab, gak bisa, negative ) ; ( bayar pake tunai, negative )\n",
      "\n",
      "( pake, puas banget, positive ) ; ( pake, puas banget, positive ) ; ( promo, banyak, positive ) ; ( ongkir, murah, positive ) ; ( ongkir, paling bisa diandalkan, positive ) ; ( ganti ke yang lain, negative ) ; ( blibli, Nggak mau ganti ke yang lain, negative )\n",
      "\n",
      "( Blibli, Good, positive ) ; ( aplikasi, user friendly, positive ) ; ( aplikasi, user friendly, positive ) ; ( promo, Banyak, positive ) ; ( promo, discount, positive ) ; ( ongkir, gratis, positive ) ; ( Pengiriman, cepat, positive ) ; (, Mantaplah, positive )\n",
      "\n"
     ]
    }
   ],
   "source": [
    "for el in false_socmed_false_format[\"string_preds\"]:\n",
    "    print(el)\n",
    "    print()"
   ]
  },
  {
   "cell_type": "markdown",
   "metadata": {},
   "source": [
    "# Syntactic Analysis Conclusion\n",
    "\n",
    "1. Perlu direview apakah data latih dan data uji perlu difilter menjadi < 256 token, apakah harus dilakukan sentence splitting, perhatikan nanti apakah ada aspek-opini yang bersebrangan (kalimatnya)\n",
    "2. tidak ada oov, karena tokenizernya bisa melakukan tokenisasi pada tingkat alfabet dan subphrase\n",
    "3. Untuk format ekstraksi, terdapat beberapa pengulangan tuple yang valuenya sama. Untuk tuple yang formatnya tidak sesuai, ada beberapa kemungkinan:\n",
    "    - Aspek implisit (seperti di paper william fu)\n",
    "    - Hanya penanda opini saja yang diekstrak\n",
    "    - Sebenarnya aspek ada di dalam penanda opini (contoh : 'bayar pake tunai' --> aspeknya : bayar | opini : pake tunai)"
   ]
  },
  {
   "cell_type": "markdown",
   "metadata": {},
   "source": [
    "# POS tag analysis"
   ]
  },
  {
   "cell_type": "code",
   "execution_count": 4,
   "metadata": {},
   "outputs": [],
   "source": [
    "from transformers import pipeline"
   ]
  },
  {
   "cell_type": "code",
   "execution_count": 96,
   "metadata": {},
   "outputs": [
    {
     "name": "stderr",
     "output_type": "stream",
     "text": [
      "Downloading: 100%|██████████| 1.67k/1.67k [00:00<00:00, 1.37MB/s]\n",
      "Downloading: 100%|██████████| 496M/496M [01:37<00:00, 5.11MB/s]   \n",
      "Downloading: 100%|██████████| 327/327 [00:00<00:00, 130kB/s]\n",
      "Downloading: 100%|██████████| 808k/808k [00:01<00:00, 458kB/s]  \n",
      "Downloading: 100%|██████████| 467k/467k [00:04<00:00, 105kB/s]  \n",
      "Downloading: 100%|██████████| 1.38M/1.38M [00:08<00:00, 164kB/s] \n",
      "Downloading: 100%|██████████| 239/239 [00:00<00:00, 157kB/s]\n"
     ]
    }
   ],
   "source": [
    "postagger_src = \"w11wo/indonesian-roberta-base-posp-tagger\"\n",
    "\n",
    "hf_postagger_model = pipeline(\"token-classification\",model=postagger_src)"
   ]
  },
  {
   "cell_type": "code",
   "execution_count": 101,
   "metadata": {},
   "outputs": [
    {
     "name": "stderr",
     "output_type": "stream",
     "text": [
      "/tmp/ipykernel_38373/144800647.py:1: SettingWithCopyWarning: \n",
      "A value is trying to be set on a copy of a slice from a DataFrame.\n",
      "Try using .loc[row_indexer,col_indexer] = value instead\n",
      "\n",
      "See the caveats in the documentation: https://pandas.pydata.org/pandas-docs/stable/user_guide/indexing.html#returning-a-view-versus-a-copy\n",
      "  false_news[\"pos_tag\"] = false_news.text.apply(hf_postagger_model)\n"
     ]
    }
   ],
   "source": [
    "false_news[\"pos_tag\"] = false_news.text.apply(hf_postagger_model)\n",
    "false_socmed[\"pos_tag\"] = false_socmed.text.apply(hf_postagger_model)"
   ]
  },
  {
   "cell_type": "code",
   "execution_count": 120,
   "metadata": {},
   "outputs": [],
   "source": [
    "false_news.to_csv(\"./cp/false_news.csv\",index=False)\n",
    "false_socmed.to_csv(\"./cp/false_socmed.csv\",index=False)\n",
    "train.to_csv(\"./cp/train.csv\",index=False)"
   ]
  },
  {
   "cell_type": "code",
   "execution_count": 9,
   "metadata": {},
   "outputs": [],
   "source": [
    "false_news = pd.read_csv(\"./cp/false_news.csv\")\n",
    "false_socmed = pd.read_csv(\"./cp/false_socmed.csv\")\n",
    "train = pd.read_csv(\"./cp/train.csv\")"
   ]
  },
  {
   "cell_type": "markdown",
   "metadata": {},
   "source": [
    "# Error Type"
   ]
  },
  {
   "cell_type": "code",
   "execution_count": 9,
   "metadata": {},
   "outputs": [],
   "source": [
    "def error_type(row):\n",
    "    target = eval(row.target)\n",
    "    raw_prediction = eval(row.raw_prediction)\n",
    "\n",
    "    if len(target) == 0:\n",
    "        return 1\n",
    "    if len(raw_prediction) == 0:\n",
    "        return 2\n",
    "    return 3"
   ]
  },
  {
   "cell_type": "code",
   "execution_count": 10,
   "metadata": {},
   "outputs": [],
   "source": [
    "false_news[\"error_type\"] = false_news.apply(error_type,axis=1)\n",
    "false_socmed[\"error_type\"] = false_socmed.apply(error_type,axis=1)"
   ]
  },
  {
   "cell_type": "code",
   "execution_count": 13,
   "metadata": {},
   "outputs": [
    {
     "name": "stdout",
     "output_type": "stream",
     "text": [
      "3    55\n",
      "1    43\n",
      "2    19\n",
      "Name: error_type, dtype: int64\n",
      "3    463\n",
      "1     70\n",
      "2     26\n",
      "Name: error_type, dtype: int64\n"
     ]
    }
   ],
   "source": [
    "print(false_news.error_type.value_counts())\n",
    "print(false_socmed.error_type.value_counts())"
   ]
  },
  {
   "cell_type": "markdown",
   "metadata": {},
   "source": [
    "Urutan tipe error dari yang terbanyak adalah sebagai berikut:\n",
    "1. error tipe 3 : target dan prediksi tidak kosong\n",
    "2. error tipe 1 : hanya target yang kosong (over extract)\n",
    "3. error tipe 2 : hanya prediksi yang kosong (under extract)"
   ]
  },
  {
   "cell_type": "code",
   "execution_count": 15,
   "metadata": {},
   "outputs": [],
   "source": [
    "sample_false_news = pd.concat([\n",
    "    false_news.loc[false_news.error_type == 1].sample(5,random_state=42),\n",
    "    false_news.loc[false_news.error_type == 2].sample(5,random_state=42),\n",
    "    false_news.loc[false_news.error_type == 3].sample(5,random_state=42)\n",
    "])\n",
    "\n",
    "sample_false_socmed = pd.concat([\n",
    "    false_socmed.loc[false_socmed.error_type == 1].sample(5,random_state=42),\n",
    "    false_socmed.loc[false_socmed.error_type == 2].sample(5,random_state=42),\n",
    "    false_socmed.loc[false_socmed.error_type == 3].sample(5,random_state=42)\n",
    "])"
   ]
  },
  {
   "cell_type": "code",
   "execution_count": 16,
   "metadata": {},
   "outputs": [
    {
     "data": {
      "text/html": [
       "<div>\n",
       "<style scoped>\n",
       "    .dataframe tbody tr th:only-of-type {\n",
       "        vertical-align: middle;\n",
       "    }\n",
       "\n",
       "    .dataframe tbody tr th {\n",
       "        vertical-align: top;\n",
       "    }\n",
       "\n",
       "    .dataframe thead th {\n",
       "        text-align: right;\n",
       "    }\n",
       "</style>\n",
       "<table border=\"1\" class=\"dataframe\">\n",
       "  <thead>\n",
       "    <tr style=\"text-align: right;\">\n",
       "      <th></th>\n",
       "      <th>text</th>\n",
       "      <th>prompt</th>\n",
       "      <th>target</th>\n",
       "      <th>raw_prediction</th>\n",
       "      <th>editdistance_prediction</th>\n",
       "      <th>cut_predictions</th>\n",
       "      <th>remove_predictions</th>\n",
       "      <th>string_preds</th>\n",
       "      <th>n_token</th>\n",
       "      <th>true_format</th>\n",
       "      <th>pos_tag</th>\n",
       "      <th>is_tokenized_well</th>\n",
       "      <th>error_type</th>\n",
       "    </tr>\n",
       "  </thead>\n",
       "  <tbody>\n",
       "    <tr>\n",
       "      <th>104</th>\n",
       "      <td>\" Apabila salah satu izin nya tak keluar , mak...</td>\n",
       "      <td>ekstraksi triplet aste :</td>\n",
       "      <td>[]</td>\n",
       "      <td>[{'aspect': 'izin', 'opinion': 'tidak keluar',...</td>\n",
       "      <td>[{'aspect': 'izin', 'opinion': 'tak keluar', '...</td>\n",
       "      <td>[{'aspect': 'izin', 'opinion': 'tak keluar', '...</td>\n",
       "      <td>[{'aspect': 'izin', 'opinion': 'tak keluar', '...</td>\n",
       "      <td>( izin, tidak keluar, negative ) ; ( konser, t...</td>\n",
       "      <td>48</td>\n",
       "      <td>True</td>\n",
       "      <td>[{'entity': 'B-SYM', 'score': 0.9997551, 'inde...</td>\n",
       "      <td>True</td>\n",
       "      <td>1</td>\n",
       "    </tr>\n",
       "    <tr>\n",
       "      <th>65</th>\n",
       "      <td>\" SE ini berlaku sejak tanggal ditetapkan dan ...</td>\n",
       "      <td>ekstraksi triplet aste :</td>\n",
       "      <td>[]</td>\n",
       "      <td>[{'aspect': 'SE No. 3 / 2022', 'opinion': 'dic...</td>\n",
       "      <td>[{'aspect': 'SE No. 3 / 2022', 'opinion': 'dic...</td>\n",
       "      <td>[{'aspect': 'SE No. 3 / 2022', 'opinion': 'dic...</td>\n",
       "      <td>[{'aspect': 'SE No. 3 / 2022', 'opinion': 'dic...</td>\n",
       "      <td>( SE No. 3 / 2022, dicabut, negative ) ; ( SE ...</td>\n",
       "      <td>61</td>\n",
       "      <td>True</td>\n",
       "      <td>[{'entity': 'B-SYM', 'score': 0.9995946, 'inde...</td>\n",
       "      <td>True</td>\n",
       "      <td>1</td>\n",
       "    </tr>\n",
       "    <tr>\n",
       "      <th>66</th>\n",
       "      <td>Luhut termasuk yang setuju segera pembangunan ...</td>\n",
       "      <td>ekstraksi triplet aste :</td>\n",
       "      <td>[]</td>\n",
       "      <td>[{'aspect': 'Luhut', 'opinion': 'setuju segera...</td>\n",
       "      <td>[{'aspect': 'Luhut', 'opinion': 'setuju segera...</td>\n",
       "      <td>[{'aspect': 'Luhut', 'opinion': 'setuju segera...</td>\n",
       "      <td>[{'aspect': 'Luhut', 'opinion': 'setuju segera...</td>\n",
       "      <td>( Luhut, setuju segera pembangunan proyek, pos...</td>\n",
       "      <td>19</td>\n",
       "      <td>True</td>\n",
       "      <td>[{'entity': 'B-NNO', 'score': 0.7169634, 'inde...</td>\n",
       "      <td>True</td>\n",
       "      <td>1</td>\n",
       "    </tr>\n",
       "    <tr>\n",
       "      <th>103</th>\n",
       "      <td>Menurut nya , tak ada hal yang perlu dikhawati...</td>\n",
       "      <td>ekstraksi triplet aste :</td>\n",
       "      <td>[]</td>\n",
       "      <td>[{'aspect': 'hal', 'opinion': 'tak ada', 'sent...</td>\n",
       "      <td>[{'aspect': 'hal', 'opinion': 'tak ada', 'sent...</td>\n",
       "      <td>[{'aspect': 'hal', 'opinion': 'tak ada', 'sent...</td>\n",
       "      <td>[{'aspect': 'hal', 'opinion': 'tak ada', 'sent...</td>\n",
       "      <td>( hal, tak ada, positive )</td>\n",
       "      <td>24</td>\n",
       "      <td>True</td>\n",
       "      <td>[{'entity': 'B-PPO', 'score': 0.8756924, 'inde...</td>\n",
       "      <td>True</td>\n",
       "      <td>1</td>\n",
       "    </tr>\n",
       "    <tr>\n",
       "      <th>98</th>\n",
       "      <td>Kanye menikah dengan Kim Kardashian , sosialit...</td>\n",
       "      <td>ekstraksi triplet aste :</td>\n",
       "      <td>[]</td>\n",
       "      <td>[{'aspect': 'konser musik', 'opinion': 'sudah ...</td>\n",
       "      <td>[{'aspect': 'konser musik', 'opinion': 'sudah ...</td>\n",
       "      <td>[{'aspect': 'konser musik', 'opinion': 'sudah ...</td>\n",
       "      <td>[{'aspect': 'konser musik', 'opinion': 'sudah ...</td>\n",
       "      <td>( konser musik, sudah bisa dijalankan, positive )</td>\n",
       "      <td>48</td>\n",
       "      <td>True</td>\n",
       "      <td>[{'entity': 'B-NNP', 'score': 0.94476414, 'ind...</td>\n",
       "      <td>True</td>\n",
       "      <td>1</td>\n",
       "    </tr>\n",
       "    <tr>\n",
       "      <th>3</th>\n",
       "      <td>\" Komisi menganggap ada peran gas alam dan nuk...</td>\n",
       "      <td>ekstraksi triplet aste :</td>\n",
       "      <td>[{'aspect': 'gas alam dan nuklir', 'opinion': ...</td>\n",
       "      <td>[]</td>\n",
       "      <td>[]</td>\n",
       "      <td>[]</td>\n",
       "      <td>[]</td>\n",
       "      <td>NONE</td>\n",
       "      <td>54</td>\n",
       "      <td>True</td>\n",
       "      <td>[{'entity': 'B-SYM', 'score': 0.9997681, 'inde...</td>\n",
       "      <td>True</td>\n",
       "      <td>2</td>\n",
       "    </tr>\n",
       "    <tr>\n",
       "      <th>19</th>\n",
       "      <td>Alhasil pelaku usaha pun bisa mengukur berapa ...</td>\n",
       "      <td>ekstraksi triplet aste :</td>\n",
       "      <td>[{'aspect': 'pelaku usaha', 'opinion': 'bisa m...</td>\n",
       "      <td>[]</td>\n",
       "      <td>[]</td>\n",
       "      <td>[]</td>\n",
       "      <td>[]</td>\n",
       "      <td>NONE</td>\n",
       "      <td>22</td>\n",
       "      <td>True</td>\n",
       "      <td>[{'entity': 'B-NNO', 'score': 0.55355394, 'ind...</td>\n",
       "      <td>True</td>\n",
       "      <td>2</td>\n",
       "    </tr>\n",
       "    <tr>\n",
       "      <th>63</th>\n",
       "      <td>Mulai dari penonton yang berdesakkan hingga ba...</td>\n",
       "      <td>ekstraksi triplet aste :</td>\n",
       "      <td>[{'aspect': 'penonton', 'opinion': 'berdesakka...</td>\n",
       "      <td>[]</td>\n",
       "      <td>[]</td>\n",
       "      <td>[]</td>\n",
       "      <td>[]</td>\n",
       "      <td>NONE</td>\n",
       "      <td>28</td>\n",
       "      <td>True</td>\n",
       "      <td>[{'entity': 'B-VBI', 'score': 0.95604974, 'ind...</td>\n",
       "      <td>True</td>\n",
       "      <td>2</td>\n",
       "    </tr>\n",
       "    <tr>\n",
       "      <th>6</th>\n",
       "      <td>Mereka menampilkan pesan \" Matilah Imperialis ...</td>\n",
       "      <td>ekstraksi triplet aste :</td>\n",
       "      <td>[{'aspect': 'pesan', 'opinion': 'Matilah', 'se...</td>\n",
       "      <td>[]</td>\n",
       "      <td>[]</td>\n",
       "      <td>[]</td>\n",
       "      <td>[]</td>\n",
       "      <td>NONE</td>\n",
       "      <td>21</td>\n",
       "      <td>True</td>\n",
       "      <td>[{'entity': 'B-PRN', 'score': 0.99491274, 'ind...</td>\n",
       "      <td>True</td>\n",
       "      <td>2</td>\n",
       "    </tr>\n",
       "    <tr>\n",
       "      <th>37</th>\n",
       "      <td>Masalah nya ketergantungan Eropa terhadap paso...</td>\n",
       "      <td>ekstraksi triplet aste :</td>\n",
       "      <td>[{'aspect': 'ketergantungan Eropa', 'opinion':...</td>\n",
       "      <td>[]</td>\n",
       "      <td>[]</td>\n",
       "      <td>[]</td>\n",
       "      <td>[]</td>\n",
       "      <td>NONE</td>\n",
       "      <td>22</td>\n",
       "      <td>True</td>\n",
       "      <td>[{'entity': 'B-NNO', 'score': 0.99684876, 'ind...</td>\n",
       "      <td>True</td>\n",
       "      <td>2</td>\n",
       "    </tr>\n",
       "    <tr>\n",
       "      <th>71</th>\n",
       "      <td>memperlakukan ini seolah-olah kita akan mengob...</td>\n",
       "      <td>ekstraksi triplet aste :</td>\n",
       "      <td>[{'aspect': 'kasus kematian Covid - 19', 'opin...</td>\n",
       "      <td>[{'aspect': 'angka kasus kematian Covid - 19',...</td>\n",
       "      <td>[{'aspect': 'angka kasus kematian Covid - 19',...</td>\n",
       "      <td>[{'aspect': 'angka kasus kematian Covid - 19',...</td>\n",
       "      <td>[{'aspect': 'angka kasus kematian Covid - 19',...</td>\n",
       "      <td>( angka kasus kematian Covid - 19, mencapa 111...</td>\n",
       "      <td>70</td>\n",
       "      <td>True</td>\n",
       "      <td>[{'entity': 'B-VBT', 'score': 0.9902526, 'inde...</td>\n",
       "      <td>True</td>\n",
       "      <td>3</td>\n",
       "    </tr>\n",
       "    <tr>\n",
       "      <th>21</th>\n",
       "      <td>\" Semua tiket akan dikembalikan sepenuh nya ta...</td>\n",
       "      <td>ekstraksi triplet aste :</td>\n",
       "      <td>[{'aspect': 'tiket', 'opinion': 'akan dikembal...</td>\n",
       "      <td>[{'aspect': 'tiket', 'opinion': 'dikembalikan ...</td>\n",
       "      <td>[{'aspect': 'tiket', 'opinion': 'dikembalikan ...</td>\n",
       "      <td>[{'aspect': 'tiket', 'opinion': 'dikembalikan ...</td>\n",
       "      <td>[{'aspect': 'tiket', 'opinion': 'dikembalikan ...</td>\n",
       "      <td>( tiket, dikembalikan sepenuh nya tanpa biaya ...</td>\n",
       "      <td>28</td>\n",
       "      <td>True</td>\n",
       "      <td>[{'entity': 'B-SYM', 'score': 0.9997087, 'inde...</td>\n",
       "      <td>True</td>\n",
       "      <td>3</td>\n",
       "    </tr>\n",
       "    <tr>\n",
       "      <th>72</th>\n",
       "      <td>\" Perilisan tur di San Diego sukses besar dan ...</td>\n",
       "      <td>ekstraksi triplet aste :</td>\n",
       "      <td>[{'aspect': 'Perilisan tur di San Diego', 'opi...</td>\n",
       "      <td>[{'aspect': 'Justin', 'opinion': 'bersemangat'...</td>\n",
       "      <td>[{'aspect': 'Justin', 'opinion': 'bersemangat'...</td>\n",
       "      <td>[{'aspect': 'Justin', 'opinion': 'bersemangat'...</td>\n",
       "      <td>[{'aspect': 'Justin', 'opinion': 'bersemangat'...</td>\n",
       "      <td>( Justin, bersemangat, positive ) ; ( Justin, ...</td>\n",
       "      <td>47</td>\n",
       "      <td>True</td>\n",
       "      <td>[{'entity': 'B-SYM', 'score': 0.9998053, 'inde...</td>\n",
       "      <td>True</td>\n",
       "      <td>3</td>\n",
       "    </tr>\n",
       "    <tr>\n",
       "      <th>41</th>\n",
       "      <td>Hal itu disampaikan lantaran suhu udara di Kal...</td>\n",
       "      <td>ekstraksi triplet aste :</td>\n",
       "      <td>[{'aspect': 'suhu udara', 'opinion': 'mulai pa...</td>\n",
       "      <td>[{'aspect': 'suhu udara', 'opinion': 'sudah mu...</td>\n",
       "      <td>[{'aspect': 'suhu udara', 'opinion': 'sudah mu...</td>\n",
       "      <td>[{'aspect': 'suhu udara', 'opinion': 'sudah mu...</td>\n",
       "      <td>[{'aspect': 'suhu udara', 'opinion': 'sudah mu...</td>\n",
       "      <td>( suhu udara, sudah mulai panas, negative ) ; ...</td>\n",
       "      <td>28</td>\n",
       "      <td>True</td>\n",
       "      <td>[{'entity': 'B-NNO', 'score': 0.9835857, 'inde...</td>\n",
       "      <td>True</td>\n",
       "      <td>3</td>\n",
       "    </tr>\n",
       "    <tr>\n",
       "      <th>51</th>\n",
       "      <td>\" Kerinduan itu terjawab tatkala Bapak hadir d...</td>\n",
       "      <td>ekstraksi triplet aste :</td>\n",
       "      <td>[{'aspect': 'Kerinduan', 'opinion': 'terjawab'...</td>\n",
       "      <td>[{'aspect': 'Kerinduan', 'opinion': 'terjawab'...</td>\n",
       "      <td>[{'aspect': 'Kerinduan', 'opinion': 'terjawab'...</td>\n",
       "      <td>[{'aspect': 'Kerinduan', 'opinion': 'terjawab'...</td>\n",
       "      <td>[{'aspect': 'Kerinduan', 'opinion': 'terjawab'...</td>\n",
       "      <td>( Kerinduan, terjawab, positive ) ; ( Masyarak...</td>\n",
       "      <td>47</td>\n",
       "      <td>True</td>\n",
       "      <td>[{'entity': 'B-SYM', 'score': 0.999548, 'index...</td>\n",
       "      <td>True</td>\n",
       "      <td>3</td>\n",
       "    </tr>\n",
       "  </tbody>\n",
       "</table>\n",
       "</div>"
      ],
      "text/plain": [
       "                                                  text  \\\n",
       "104  \" Apabila salah satu izin nya tak keluar , mak...   \n",
       "65   \" SE ini berlaku sejak tanggal ditetapkan dan ...   \n",
       "66   Luhut termasuk yang setuju segera pembangunan ...   \n",
       "103  Menurut nya , tak ada hal yang perlu dikhawati...   \n",
       "98   Kanye menikah dengan Kim Kardashian , sosialit...   \n",
       "3    \" Komisi menganggap ada peran gas alam dan nuk...   \n",
       "19   Alhasil pelaku usaha pun bisa mengukur berapa ...   \n",
       "63   Mulai dari penonton yang berdesakkan hingga ba...   \n",
       "6    Mereka menampilkan pesan \" Matilah Imperialis ...   \n",
       "37   Masalah nya ketergantungan Eropa terhadap paso...   \n",
       "71   memperlakukan ini seolah-olah kita akan mengob...   \n",
       "21   \" Semua tiket akan dikembalikan sepenuh nya ta...   \n",
       "72   \" Perilisan tur di San Diego sukses besar dan ...   \n",
       "41   Hal itu disampaikan lantaran suhu udara di Kal...   \n",
       "51   \" Kerinduan itu terjawab tatkala Bapak hadir d...   \n",
       "\n",
       "                       prompt  \\\n",
       "104  ekstraksi triplet aste :   \n",
       "65   ekstraksi triplet aste :   \n",
       "66   ekstraksi triplet aste :   \n",
       "103  ekstraksi triplet aste :   \n",
       "98   ekstraksi triplet aste :   \n",
       "3    ekstraksi triplet aste :   \n",
       "19   ekstraksi triplet aste :   \n",
       "63   ekstraksi triplet aste :   \n",
       "6    ekstraksi triplet aste :   \n",
       "37   ekstraksi triplet aste :   \n",
       "71   ekstraksi triplet aste :   \n",
       "21   ekstraksi triplet aste :   \n",
       "72   ekstraksi triplet aste :   \n",
       "41   ekstraksi triplet aste :   \n",
       "51   ekstraksi triplet aste :   \n",
       "\n",
       "                                                target  \\\n",
       "104                                                 []   \n",
       "65                                                  []   \n",
       "66                                                  []   \n",
       "103                                                 []   \n",
       "98                                                  []   \n",
       "3    [{'aspect': 'gas alam dan nuklir', 'opinion': ...   \n",
       "19   [{'aspect': 'pelaku usaha', 'opinion': 'bisa m...   \n",
       "63   [{'aspect': 'penonton', 'opinion': 'berdesakka...   \n",
       "6    [{'aspect': 'pesan', 'opinion': 'Matilah', 'se...   \n",
       "37   [{'aspect': 'ketergantungan Eropa', 'opinion':...   \n",
       "71   [{'aspect': 'kasus kematian Covid - 19', 'opin...   \n",
       "21   [{'aspect': 'tiket', 'opinion': 'akan dikembal...   \n",
       "72   [{'aspect': 'Perilisan tur di San Diego', 'opi...   \n",
       "41   [{'aspect': 'suhu udara', 'opinion': 'mulai pa...   \n",
       "51   [{'aspect': 'Kerinduan', 'opinion': 'terjawab'...   \n",
       "\n",
       "                                        raw_prediction  \\\n",
       "104  [{'aspect': 'izin', 'opinion': 'tidak keluar',...   \n",
       "65   [{'aspect': 'SE No. 3 / 2022', 'opinion': 'dic...   \n",
       "66   [{'aspect': 'Luhut', 'opinion': 'setuju segera...   \n",
       "103  [{'aspect': 'hal', 'opinion': 'tak ada', 'sent...   \n",
       "98   [{'aspect': 'konser musik', 'opinion': 'sudah ...   \n",
       "3                                                   []   \n",
       "19                                                  []   \n",
       "63                                                  []   \n",
       "6                                                   []   \n",
       "37                                                  []   \n",
       "71   [{'aspect': 'angka kasus kematian Covid - 19',...   \n",
       "21   [{'aspect': 'tiket', 'opinion': 'dikembalikan ...   \n",
       "72   [{'aspect': 'Justin', 'opinion': 'bersemangat'...   \n",
       "41   [{'aspect': 'suhu udara', 'opinion': 'sudah mu...   \n",
       "51   [{'aspect': 'Kerinduan', 'opinion': 'terjawab'...   \n",
       "\n",
       "                               editdistance_prediction  \\\n",
       "104  [{'aspect': 'izin', 'opinion': 'tak keluar', '...   \n",
       "65   [{'aspect': 'SE No. 3 / 2022', 'opinion': 'dic...   \n",
       "66   [{'aspect': 'Luhut', 'opinion': 'setuju segera...   \n",
       "103  [{'aspect': 'hal', 'opinion': 'tak ada', 'sent...   \n",
       "98   [{'aspect': 'konser musik', 'opinion': 'sudah ...   \n",
       "3                                                   []   \n",
       "19                                                  []   \n",
       "63                                                  []   \n",
       "6                                                   []   \n",
       "37                                                  []   \n",
       "71   [{'aspect': 'angka kasus kematian Covid - 19',...   \n",
       "21   [{'aspect': 'tiket', 'opinion': 'dikembalikan ...   \n",
       "72   [{'aspect': 'Justin', 'opinion': 'bersemangat'...   \n",
       "41   [{'aspect': 'suhu udara', 'opinion': 'sudah mu...   \n",
       "51   [{'aspect': 'Kerinduan', 'opinion': 'terjawab'...   \n",
       "\n",
       "                                       cut_predictions  \\\n",
       "104  [{'aspect': 'izin', 'opinion': 'tak keluar', '...   \n",
       "65   [{'aspect': 'SE No. 3 / 2022', 'opinion': 'dic...   \n",
       "66   [{'aspect': 'Luhut', 'opinion': 'setuju segera...   \n",
       "103  [{'aspect': 'hal', 'opinion': 'tak ada', 'sent...   \n",
       "98   [{'aspect': 'konser musik', 'opinion': 'sudah ...   \n",
       "3                                                   []   \n",
       "19                                                  []   \n",
       "63                                                  []   \n",
       "6                                                   []   \n",
       "37                                                  []   \n",
       "71   [{'aspect': 'angka kasus kematian Covid - 19',...   \n",
       "21   [{'aspect': 'tiket', 'opinion': 'dikembalikan ...   \n",
       "72   [{'aspect': 'Justin', 'opinion': 'bersemangat'...   \n",
       "41   [{'aspect': 'suhu udara', 'opinion': 'sudah mu...   \n",
       "51   [{'aspect': 'Kerinduan', 'opinion': 'terjawab'...   \n",
       "\n",
       "                                    remove_predictions  \\\n",
       "104  [{'aspect': 'izin', 'opinion': 'tak keluar', '...   \n",
       "65   [{'aspect': 'SE No. 3 / 2022', 'opinion': 'dic...   \n",
       "66   [{'aspect': 'Luhut', 'opinion': 'setuju segera...   \n",
       "103  [{'aspect': 'hal', 'opinion': 'tak ada', 'sent...   \n",
       "98   [{'aspect': 'konser musik', 'opinion': 'sudah ...   \n",
       "3                                                   []   \n",
       "19                                                  []   \n",
       "63                                                  []   \n",
       "6                                                   []   \n",
       "37                                                  []   \n",
       "71   [{'aspect': 'angka kasus kematian Covid - 19',...   \n",
       "21   [{'aspect': 'tiket', 'opinion': 'dikembalikan ...   \n",
       "72   [{'aspect': 'Justin', 'opinion': 'bersemangat'...   \n",
       "41   [{'aspect': 'suhu udara', 'opinion': 'sudah mu...   \n",
       "51   [{'aspect': 'Kerinduan', 'opinion': 'terjawab'...   \n",
       "\n",
       "                                          string_preds  n_token  true_format  \\\n",
       "104  ( izin, tidak keluar, negative ) ; ( konser, t...       48         True   \n",
       "65   ( SE No. 3 / 2022, dicabut, negative ) ; ( SE ...       61         True   \n",
       "66   ( Luhut, setuju segera pembangunan proyek, pos...       19         True   \n",
       "103                         ( hal, tak ada, positive )       24         True   \n",
       "98   ( konser musik, sudah bisa dijalankan, positive )       48         True   \n",
       "3                                                 NONE       54         True   \n",
       "19                                                NONE       22         True   \n",
       "63                                                NONE       28         True   \n",
       "6                                                 NONE       21         True   \n",
       "37                                                NONE       22         True   \n",
       "71   ( angka kasus kematian Covid - 19, mencapa 111...       70         True   \n",
       "21   ( tiket, dikembalikan sepenuh nya tanpa biaya ...       28         True   \n",
       "72   ( Justin, bersemangat, positive ) ; ( Justin, ...       47         True   \n",
       "41   ( suhu udara, sudah mulai panas, negative ) ; ...       28         True   \n",
       "51   ( Kerinduan, terjawab, positive ) ; ( Masyarak...       47         True   \n",
       "\n",
       "                                               pos_tag  is_tokenized_well  \\\n",
       "104  [{'entity': 'B-SYM', 'score': 0.9997551, 'inde...               True   \n",
       "65   [{'entity': 'B-SYM', 'score': 0.9995946, 'inde...               True   \n",
       "66   [{'entity': 'B-NNO', 'score': 0.7169634, 'inde...               True   \n",
       "103  [{'entity': 'B-PPO', 'score': 0.8756924, 'inde...               True   \n",
       "98   [{'entity': 'B-NNP', 'score': 0.94476414, 'ind...               True   \n",
       "3    [{'entity': 'B-SYM', 'score': 0.9997681, 'inde...               True   \n",
       "19   [{'entity': 'B-NNO', 'score': 0.55355394, 'ind...               True   \n",
       "63   [{'entity': 'B-VBI', 'score': 0.95604974, 'ind...               True   \n",
       "6    [{'entity': 'B-PRN', 'score': 0.99491274, 'ind...               True   \n",
       "37   [{'entity': 'B-NNO', 'score': 0.99684876, 'ind...               True   \n",
       "71   [{'entity': 'B-VBT', 'score': 0.9902526, 'inde...               True   \n",
       "21   [{'entity': 'B-SYM', 'score': 0.9997087, 'inde...               True   \n",
       "72   [{'entity': 'B-SYM', 'score': 0.9998053, 'inde...               True   \n",
       "41   [{'entity': 'B-NNO', 'score': 0.9835857, 'inde...               True   \n",
       "51   [{'entity': 'B-SYM', 'score': 0.999548, 'index...               True   \n",
       "\n",
       "     error_type  \n",
       "104           1  \n",
       "65            1  \n",
       "66            1  \n",
       "103           1  \n",
       "98            1  \n",
       "3             2  \n",
       "19            2  \n",
       "63            2  \n",
       "6             2  \n",
       "37            2  \n",
       "71            3  \n",
       "21            3  \n",
       "72            3  \n",
       "41            3  \n",
       "51            3  "
      ]
     },
     "execution_count": 16,
     "metadata": {},
     "output_type": "execute_result"
    }
   ],
   "source": [
    "sample_false_news"
   ]
  },
  {
   "cell_type": "code",
   "execution_count": 18,
   "metadata": {},
   "outputs": [],
   "source": [
    "sample_false_news.to_csv(\"./cp/sample_false_news.csv\",index=False)\n",
    "sample_false_socmed.to_csv(\"./cp/sample_false_socmed.csv\",index=False)"
   ]
  },
  {
   "cell_type": "code",
   "execution_count": 5,
   "metadata": {},
   "outputs": [],
   "source": [
    "sample_false_news = pd.read_csv(\"./cp/sample_false_news.csv\")\n",
    "sample_false_socmed = pd.read_csv(\"./cp/sample_false_socmed.csv\")"
   ]
  },
  {
   "cell_type": "code",
   "execution_count": 15,
   "metadata": {},
   "outputs": [],
   "source": [
    "fixed_prediction_news = false_news.loc[false_news.raw_prediction != false_news.editdistance_prediction].copy()\n",
    "fixed_prediction_socmed = false_socmed.loc[false_socmed.raw_prediction != false_socmed.editdistance_prediction].copy()"
   ]
  },
  {
   "cell_type": "code",
   "execution_count": 24,
   "metadata": {},
   "outputs": [],
   "source": [
    "fixed_prediction_news = fixed_prediction_news[[\"text\",\"raw_prediction\",\"editdistance_prediction\"]]\n",
    "fixed_prediction_socmed = fixed_prediction_socmed[[\"text\",\"raw_prediction\",\"editdistance_prediction\"]]"
   ]
  },
  {
   "cell_type": "code",
   "execution_count": 40,
   "metadata": {},
   "outputs": [
    {
     "data": {
      "text/plain": [
       "\"[{'aspect': 'pt pln ( persero )', 'opinion': 'sempat mengalami krisis gas alam cair ( liquefied natural gas / lng )', 'sentiment': 'negative'}]\""
      ]
     },
     "execution_count": 40,
     "metadata": {},
     "output_type": "execute_result"
    }
   ],
   "source": [
    "fixed_prediction_news.loc[42,\"editdistance_prediction\"]"
   ]
  },
  {
   "cell_type": "code",
   "execution_count": null,
   "metadata": {},
   "outputs": [],
   "source": []
  }
 ],
 "metadata": {
  "kernelspec": {
   "display_name": "Python 3.9.13 ('absa')",
   "language": "python",
   "name": "python3"
  },
  "language_info": {
   "codemirror_mode": {
    "name": "ipython",
    "version": 3
   },
   "file_extension": ".py",
   "mimetype": "text/x-python",
   "name": "python",
   "nbconvert_exporter": "python",
   "pygments_lexer": "ipython3",
   "version": "3.9.13"
  },
  "orig_nbformat": 4,
  "vscode": {
   "interpreter": {
    "hash": "5b39f2579f8b6cd4576fdc137fdffaab644b0ca009c2f95d260a904125131941"
   }
  }
 },
 "nbformat": 4,
 "nbformat_minor": 2
}
