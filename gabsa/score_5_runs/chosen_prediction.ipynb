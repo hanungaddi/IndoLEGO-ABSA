{
 "cells": [
  {
   "cell_type": "code",
   "execution_count": 1,
   "metadata": {},
   "outputs": [],
   "source": [
    "import pandas as pd\n",
    "import os\n",
    "\n",
    "lap14 = pd.read_csv(\"./r42/14lap/prediction.csv\")\n",
    "res14 = pd.read_csv(\"./r123/14res/prediction.csv\")\n",
    "res15 = pd.read_csv(\"./r123/15res/prediction.csv\")\n",
    "res16 = pd.read_csv(\"./r0/16res/prediction.csv\")\n",
    "hotel = pd.read_csv(\"./r42/hotel_id_v2/prediction.csv\")"
   ]
  },
  {
   "cell_type": "code",
   "execution_count": 5,
   "metadata": {},
   "outputs": [],
   "source": [
    "lap14 = lap14.loc[lap14.prompt.str.contains(\"aste\")]\n",
    "res14 = res14.loc[res14.prompt.str.contains(\"aste\")]\n",
    "res15 = res15.loc[res15.prompt.str.contains(\"aste\")]\n",
    "res16 = res16.loc[res16.prompt.str.contains(\"aste\")]\n",
    "hotel = hotel.loc[hotel.prompt.str.contains(\"aste\")]"
   ]
  },
  {
   "cell_type": "code",
   "execution_count": 7,
   "metadata": {},
   "outputs": [],
   "source": [
    "lap14.to_csv(\"error_analysis_14lap.csv\",index=False)\n",
    "res14.to_csv(\"error_analysis_res14.csv\",index=False)\n",
    "res15.to_csv(\"error_analysis_res15.csv\",index=False)\n",
    "res16.to_csv(\"error_analysis_res16.csv\",index=False)\n",
    "hotel.to_csv(\"error_analysis_hotel.csv\",index=False)"
   ]
  },
  {
   "cell_type": "code",
   "execution_count": null,
   "metadata": {},
   "outputs": [],
   "source": []
  }
 ],
 "metadata": {
  "kernelspec": {
   "display_name": "Python 3.9.7 ('base')",
   "language": "python",
   "name": "python3"
  },
  "language_info": {
   "codemirror_mode": {
    "name": "ipython",
    "version": 3
   },
   "file_extension": ".py",
   "mimetype": "text/x-python",
   "name": "python",
   "nbconvert_exporter": "python",
   "pygments_lexer": "ipython3",
   "version": "3.9.7 (default, Sep 16 2021, 16:59:28) [MSC v.1916 64 bit (AMD64)]"
  },
  "orig_nbformat": 4,
  "vscode": {
   "interpreter": {
    "hash": "f5045f1ed516028e6ba3c78ae58e34f2955ee8afe7e35fc1835a968676e80520"
   }
  }
 },
 "nbformat": 4,
 "nbformat_minor": 2
}
