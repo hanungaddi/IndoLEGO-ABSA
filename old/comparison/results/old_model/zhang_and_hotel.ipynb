{
 "cells": [
  {
   "cell_type": "code",
   "execution_count": 3,
   "metadata": {},
   "outputs": [],
   "source": [
    "import pandas as pd\n",
    "import json\n",
    "import os\n",
    "\n",
    "listdir = os.listdir()\n",
    "listdir.remove(\"test_news\")\n",
    "listdir.remove(\"test_socmed\")\n",
    "listdir.remove(\"zhang_and_hotel.ipynb\")\n",
    "\n",
    "evaluation = {}\n",
    "inference_time = {}\n",
    "model_info = {}\n",
    "prediction = {}\n",
    "relation_prediction = {}"
   ]
  },
  {
   "cell_type": "code",
   "execution_count": 4,
   "metadata": {},
   "outputs": [],
   "source": [
    "for el in listdir:\n",
    "    evaluation[el] = json.load(open(el + \"/evaluation.json\",'r'))\n",
    "    inference_time[el] = json.load(open(el + \"/inference_time.json\",'r'))\n",
    "    model_info[el] = json.load(open(el + \"/model_info.json\",'r'))\n",
    "    prediction[el] = pd.read_csv(el + \"/prediction.csv\")\n",
    "    relation_prediction[el] = pd.read_csv(el + \"/relation_prediction.csv\")"
   ]
  },
  {
   "cell_type": "code",
   "execution_count": 6,
   "metadata": {},
   "outputs": [],
   "source": [
    "f1_scores = {}\n",
    "for k in evaluation.keys():\n",
    "    f1_scores[k] = evaluation[k][\"f1\"]"
   ]
  },
  {
   "cell_type": "code",
   "execution_count": 10,
   "metadata": {},
   "outputs": [
    {
     "data": {
      "text/plain": [
       "aste_data_v2_14lap    0.193050\n",
       "aste_data_v2_14res    0.251093\n",
       "aste_data_v2_15res    0.143928\n",
       "aste_data_v2_16res    0.247423\n",
       "hotel_id_v2           0.278955\n",
       "Name: Score, dtype: float64"
      ]
     },
     "execution_count": 10,
     "metadata": {},
     "output_type": "execute_result"
    }
   ],
   "source": [
    "f1_scores = pd.Series(f1_scores,name=\"Score\")\n",
    "f1_scores"
   ]
  },
  {
   "cell_type": "code",
   "execution_count": 11,
   "metadata": {},
   "outputs": [],
   "source": [
    "f1_scores.to_csv(\"score_oldmodel.csv\")"
   ]
  },
  {
   "cell_type": "code",
   "execution_count": 18,
   "metadata": {},
   "outputs": [
    {
     "data": {
      "text/plain": [
       "{'concept': '/srv/nas_data1/text/randy/absa/models/facebook_research/hotel_id_v2/two_staged/aspect/spanbert/spanbert_lm_sg_L24_S256',\n",
       " 'sentiment_marker': '/srv/nas_data1/text/randy/absa/models/facebook_research/hotel_id_v2/two_staged/opinion/spanbert/spanbert_lm_sg_L24_S256',\n",
       " 'relation': '/srv/nas_data1/text/randy/absa/models/facebook_research/hotel_id_v2/two_staged/relation/spanbert/spanbert_lm_sg_L24_S256'}"
      ]
     },
     "execution_count": 18,
     "metadata": {},
     "output_type": "execute_result"
    }
   ],
   "source": [
    "model_info['hotel_id_v2']"
   ]
  },
  {
   "attachments": {},
   "cell_type": "markdown",
   "metadata": {},
   "source": [
    "# Zhang"
   ]
  },
  {
   "cell_type": "code",
   "execution_count": null,
   "metadata": {},
   "outputs": [],
   "source": []
  }
 ],
 "metadata": {
  "kernelspec": {
   "display_name": "Python 3.9.7 ('base')",
   "language": "python",
   "name": "python3"
  },
  "language_info": {
   "codemirror_mode": {
    "name": "ipython",
    "version": 3
   },
   "file_extension": ".py",
   "mimetype": "text/x-python",
   "name": "python",
   "nbconvert_exporter": "python",
   "pygments_lexer": "ipython3",
   "version": "3.9.7 (default, Sep 16 2021, 16:59:28) [MSC v.1916 64 bit (AMD64)]"
  },
  "orig_nbformat": 4,
  "vscode": {
   "interpreter": {
    "hash": "f5045f1ed516028e6ba3c78ae58e34f2955ee8afe7e35fc1835a968676e80520"
   }
  }
 },
 "nbformat": 4,
 "nbformat_minor": 2
}
