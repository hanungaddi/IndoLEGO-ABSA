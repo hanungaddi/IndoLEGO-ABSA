{
 "cells": [
  {
   "cell_type": "code",
   "execution_count": 1,
   "metadata": {},
   "outputs": [],
   "source": [
    "import os\n",
    "import pandas as pd"
   ]
  },
  {
   "cell_type": "code",
   "execution_count": 2,
   "metadata": {},
   "outputs": [],
   "source": [
    "path = \"../raw/Dataset Klasifikasi Emosi.txt\"\n",
    "with open(path,'r') as reader:\n",
    "    data = reader.read().splitlines()"
   ]
  },
  {
   "cell_type": "code",
   "execution_count": 6,
   "metadata": {},
   "outputs": [
    {
     "data": {
      "text/plain": [
       "['\"(1, \\'inggitsemut\\', \\'NOEMOTION\\', \\'DATA LATIH\\', \\'min its my spec day promo ad deadline\\'),\"',\n",
       " '\"(2, \\'yandri_a04\\', \\'NOEMOTION\\', \\'DATA LATIH\\', \\'suntik vitamin brapa\\'),\"',\n",
       " '\"(3, \\'anindya414\\', \\'NOEMOTION\\', \\'DATA LATIH\\', \\'kak hrg\\'),\"',\n",
       " '\"(4, \\'nabilaabdat2\\', \\'NOEMOTION\\', \\'DATA LATIH\\', \\'sis hri ttp ap buka\\'),\"',\n",
       " '\"(5, \\'Oline_BMI\\', \\'NOEMOTION\\', \\'DATA LATIH\\', \\'hadiah best answer look from thank you\\'),\"']"
      ]
     },
     "execution_count": 6,
     "metadata": {},
     "output_type": "execute_result"
    }
   ],
   "source": [
    "data[:5]"
   ]
  },
  {
   "cell_type": "code",
   "execution_count": 16,
   "metadata": {},
   "outputs": [],
   "source": [
    "df = []\n",
    "prompt = \"Prediksi emosi yang terdapat di dalam kalimat berikut\"\n",
    "for i in range(len(data)):\n",
    "    line = data[i]\n",
    "    line = line.replace('\"','')[:-1]\n",
    "    try:\n",
    "        line = eval(line)\n",
    "        index, username, emotion, split, text = line\n",
    "        df.append({\n",
    "            \"prompt\" : prompt,\n",
    "            \"text\" : text,\n",
    "            \"emotion\" : emotion\n",
    "        })\n",
    "    except Exception as e:\n",
    "        pass"
   ]
  },
  {
   "cell_type": "code",
   "execution_count": 17,
   "metadata": {},
   "outputs": [],
   "source": [
    "df = pd.DataFrame(df)"
   ]
  },
  {
   "cell_type": "code",
   "execution_count": 19,
   "metadata": {},
   "outputs": [
    {
     "data": {
      "text/html": [
       "<div>\n",
       "<style scoped>\n",
       "    .dataframe tbody tr th:only-of-type {\n",
       "        vertical-align: middle;\n",
       "    }\n",
       "\n",
       "    .dataframe tbody tr th {\n",
       "        vertical-align: top;\n",
       "    }\n",
       "\n",
       "    .dataframe thead th {\n",
       "        text-align: right;\n",
       "    }\n",
       "</style>\n",
       "<table border=\"1\" class=\"dataframe\">\n",
       "  <thead>\n",
       "    <tr style=\"text-align: right;\">\n",
       "      <th></th>\n",
       "      <th>prompt</th>\n",
       "      <th>text</th>\n",
       "      <th>emotion</th>\n",
       "    </tr>\n",
       "  </thead>\n",
       "  <tbody>\n",
       "    <tr>\n",
       "      <th>0</th>\n",
       "      <td>Prediksi emosi yang terdapat di dalam kalimat ...</td>\n",
       "      <td>min its my spec day promo ad deadline</td>\n",
       "      <td>NOEMOTION</td>\n",
       "    </tr>\n",
       "    <tr>\n",
       "      <th>1</th>\n",
       "      <td>Prediksi emosi yang terdapat di dalam kalimat ...</td>\n",
       "      <td>suntik vitamin brapa</td>\n",
       "      <td>NOEMOTION</td>\n",
       "    </tr>\n",
       "    <tr>\n",
       "      <th>2</th>\n",
       "      <td>Prediksi emosi yang terdapat di dalam kalimat ...</td>\n",
       "      <td>kak hrg</td>\n",
       "      <td>NOEMOTION</td>\n",
       "    </tr>\n",
       "    <tr>\n",
       "      <th>3</th>\n",
       "      <td>Prediksi emosi yang terdapat di dalam kalimat ...</td>\n",
       "      <td>sis hri ttp ap buka</td>\n",
       "      <td>NOEMOTION</td>\n",
       "    </tr>\n",
       "    <tr>\n",
       "      <th>4</th>\n",
       "      <td>Prediksi emosi yang terdapat di dalam kalimat ...</td>\n",
       "      <td>hadiah best answer look from thank you</td>\n",
       "      <td>NOEMOTION</td>\n",
       "    </tr>\n",
       "  </tbody>\n",
       "</table>\n",
       "</div>"
      ],
      "text/plain": [
       "                                              prompt  \\\n",
       "0  Prediksi emosi yang terdapat di dalam kalimat ...   \n",
       "1  Prediksi emosi yang terdapat di dalam kalimat ...   \n",
       "2  Prediksi emosi yang terdapat di dalam kalimat ...   \n",
       "3  Prediksi emosi yang terdapat di dalam kalimat ...   \n",
       "4  Prediksi emosi yang terdapat di dalam kalimat ...   \n",
       "\n",
       "                                     text    emotion  \n",
       "0   min its my spec day promo ad deadline  NOEMOTION  \n",
       "1                    suntik vitamin brapa  NOEMOTION  \n",
       "2                                 kak hrg  NOEMOTION  \n",
       "3                     sis hri ttp ap buka  NOEMOTION  \n",
       "4  hadiah best answer look from thank you  NOEMOTION  "
      ]
     },
     "execution_count": 19,
     "metadata": {},
     "output_type": "execute_result"
    }
   ],
   "source": [
    "df.head()"
   ]
  },
  {
   "cell_type": "code",
   "execution_count": 20,
   "metadata": {},
   "outputs": [
    {
     "data": {
      "text/plain": [
       "array(['NOEMOTION', 'SURPRISE', 'SAD', 'JOY', 'FEAR', 'DISGUST', 'ANGER'],\n",
       "      dtype=object)"
      ]
     },
     "execution_count": 20,
     "metadata": {},
     "output_type": "execute_result"
    }
   ],
   "source": [
    "df.emotion.unique()"
   ]
  },
  {
   "cell_type": "code",
   "execution_count": 21,
   "metadata": {},
   "outputs": [],
   "source": [
    "emotion_map = {\n",
    "    'NOEMOTION' : \"Tanpa emosi\",\n",
    "    'SURPRISE' : \"Terkejut\",\n",
    "    'SAD' : \"Sedih\",\n",
    "    'JOY' : \"Senang\",\n",
    "    'FEAR' : \"Takut\",\n",
    "    'DISGUST' : \"Jijik\",\n",
    "    'ANGER' : \"Marah\"\n",
    "}"
   ]
  },
  {
   "cell_type": "code",
   "execution_count": 22,
   "metadata": {},
   "outputs": [],
   "source": [
    "df[\"output\"] = df.emotion.apply(emotion_map.get)"
   ]
  },
  {
   "cell_type": "code",
   "execution_count": 23,
   "metadata": {},
   "outputs": [],
   "source": [
    "df = df[[\"prompt\",\"text\",\"output\"]]"
   ]
  },
  {
   "cell_type": "code",
   "execution_count": 24,
   "metadata": {},
   "outputs": [
    {
     "data": {
      "text/html": [
       "<div>\n",
       "<style scoped>\n",
       "    .dataframe tbody tr th:only-of-type {\n",
       "        vertical-align: middle;\n",
       "    }\n",
       "\n",
       "    .dataframe tbody tr th {\n",
       "        vertical-align: top;\n",
       "    }\n",
       "\n",
       "    .dataframe thead th {\n",
       "        text-align: right;\n",
       "    }\n",
       "</style>\n",
       "<table border=\"1\" class=\"dataframe\">\n",
       "  <thead>\n",
       "    <tr style=\"text-align: right;\">\n",
       "      <th></th>\n",
       "      <th>prompt</th>\n",
       "      <th>text</th>\n",
       "      <th>output</th>\n",
       "    </tr>\n",
       "  </thead>\n",
       "  <tbody>\n",
       "    <tr>\n",
       "      <th>0</th>\n",
       "      <td>Prediksi emosi yang terdapat di dalam kalimat ...</td>\n",
       "      <td>min its my spec day promo ad deadline</td>\n",
       "      <td>Tanpa emosi</td>\n",
       "    </tr>\n",
       "    <tr>\n",
       "      <th>1</th>\n",
       "      <td>Prediksi emosi yang terdapat di dalam kalimat ...</td>\n",
       "      <td>suntik vitamin brapa</td>\n",
       "      <td>Tanpa emosi</td>\n",
       "    </tr>\n",
       "    <tr>\n",
       "      <th>2</th>\n",
       "      <td>Prediksi emosi yang terdapat di dalam kalimat ...</td>\n",
       "      <td>kak hrg</td>\n",
       "      <td>Tanpa emosi</td>\n",
       "    </tr>\n",
       "    <tr>\n",
       "      <th>3</th>\n",
       "      <td>Prediksi emosi yang terdapat di dalam kalimat ...</td>\n",
       "      <td>sis hri ttp ap buka</td>\n",
       "      <td>Tanpa emosi</td>\n",
       "    </tr>\n",
       "    <tr>\n",
       "      <th>4</th>\n",
       "      <td>Prediksi emosi yang terdapat di dalam kalimat ...</td>\n",
       "      <td>hadiah best answer look from thank you</td>\n",
       "      <td>Tanpa emosi</td>\n",
       "    </tr>\n",
       "  </tbody>\n",
       "</table>\n",
       "</div>"
      ],
      "text/plain": [
       "                                              prompt  \\\n",
       "0  Prediksi emosi yang terdapat di dalam kalimat ...   \n",
       "1  Prediksi emosi yang terdapat di dalam kalimat ...   \n",
       "2  Prediksi emosi yang terdapat di dalam kalimat ...   \n",
       "3  Prediksi emosi yang terdapat di dalam kalimat ...   \n",
       "4  Prediksi emosi yang terdapat di dalam kalimat ...   \n",
       "\n",
       "                                     text       output  \n",
       "0   min its my spec day promo ad deadline  Tanpa emosi  \n",
       "1                    suntik vitamin brapa  Tanpa emosi  \n",
       "2                                 kak hrg  Tanpa emosi  \n",
       "3                     sis hri ttp ap buka  Tanpa emosi  \n",
       "4  hadiah best answer look from thank you  Tanpa emosi  "
      ]
     },
     "execution_count": 24,
     "metadata": {},
     "output_type": "execute_result"
    }
   ],
   "source": [
    "df.head()"
   ]
  },
  {
   "cell_type": "code",
   "execution_count": 25,
   "metadata": {},
   "outputs": [],
   "source": [
    "df.to_csv(\"../interim/data.csv\",index=False)"
   ]
  },
  {
   "cell_type": "code",
   "execution_count": null,
   "metadata": {},
   "outputs": [],
   "source": []
  }
 ],
 "metadata": {
  "kernelspec": {
   "display_name": "base",
   "language": "python",
   "name": "python3"
  },
  "language_info": {
   "codemirror_mode": {
    "name": "ipython",
    "version": 3
   },
   "file_extension": ".py",
   "mimetype": "text/x-python",
   "name": "python",
   "nbconvert_exporter": "python",
   "pygments_lexer": "ipython3",
   "version": "3.9.7"
  },
  "orig_nbformat": 4
 },
 "nbformat": 4,
 "nbformat_minor": 2
}
