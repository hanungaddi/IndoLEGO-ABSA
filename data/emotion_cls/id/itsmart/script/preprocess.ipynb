{
 "cells": [
  {
   "cell_type": "code",
   "execution_count": 1,
   "metadata": {},
   "outputs": [],
   "source": [
    "import os\n",
    "import pandas as pd"
   ]
  },
  {
   "cell_type": "code",
   "execution_count": 2,
   "metadata": {},
   "outputs": [],
   "source": [
    "path = \"../raw/Dataset Klasifikasi Emosi.txt\"\n",
    "with open(path,'r') as reader:\n",
    "    data = reader.read().splitlines()"
   ]
  },
  {
   "cell_type": "code",
   "execution_count": 3,
   "metadata": {},
   "outputs": [
    {
     "data": {
      "text/plain": [
       "['\"(1, \\'inggitsemut\\', \\'NOEMOTION\\', \\'DATA LATIH\\', \\'min its my spec day promo ad deadline\\'),\"',\n",
       " '\"(2, \\'yandri_a04\\', \\'NOEMOTION\\', \\'DATA LATIH\\', \\'suntik vitamin brapa\\'),\"',\n",
       " '\"(3, \\'anindya414\\', \\'NOEMOTION\\', \\'DATA LATIH\\', \\'kak hrg\\'),\"',\n",
       " '\"(4, \\'nabilaabdat2\\', \\'NOEMOTION\\', \\'DATA LATIH\\', \\'sis hri ttp ap buka\\'),\"',\n",
       " '\"(5, \\'Oline_BMI\\', \\'NOEMOTION\\', \\'DATA LATIH\\', \\'hadiah best answer look from thank you\\'),\"']"
      ]
     },
     "execution_count": 3,
     "metadata": {},
     "output_type": "execute_result"
    }
   ],
   "source": [
    "data[:5]"
   ]
  },
  {
   "cell_type": "code",
   "execution_count": 5,
   "metadata": {},
   "outputs": [],
   "source": [
    "emotion_map = {\n",
    "    'NOEMOTION' : \"Tanpa emosi\",\n",
    "    'SURPRISE' : \"Terkejut\",\n",
    "    'SAD' : \"Sedih\",\n",
    "    'JOY' : \"Senang\",\n",
    "    'FEAR' : \"Takut\",\n",
    "    'DISGUST' : \"Jijik\",\n",
    "    'ANGER' : \"Marah\"\n",
    "}"
   ]
  },
  {
   "cell_type": "code",
   "execution_count": 7,
   "metadata": {},
   "outputs": [],
   "source": [
    "df = []\n",
    "prompt = \"Prediksi emosi yang terdapat di dalam kalimat berikut\"\n",
    "for i in range(len(data)):\n",
    "    line = data[i]\n",
    "    line = line.replace('\"','')[:-1]\n",
    "    try:\n",
    "        line = eval(line)\n",
    "        index, username, emotion, split, text = line\n",
    "        df.append({\n",
    "            \"input\" : prompt + ' | ' + text,\n",
    "            \"output\" : emotion_map[emotion]\n",
    "        })\n",
    "    except Exception as e:\n",
    "        pass"
   ]
  },
  {
   "cell_type": "code",
   "execution_count": 8,
   "metadata": {},
   "outputs": [],
   "source": [
    "df = pd.DataFrame(df)"
   ]
  },
  {
   "cell_type": "code",
   "execution_count": 9,
   "metadata": {},
   "outputs": [
    {
     "data": {
      "text/html": [
       "<div>\n",
       "<style scoped>\n",
       "    .dataframe tbody tr th:only-of-type {\n",
       "        vertical-align: middle;\n",
       "    }\n",
       "\n",
       "    .dataframe tbody tr th {\n",
       "        vertical-align: top;\n",
       "    }\n",
       "\n",
       "    .dataframe thead th {\n",
       "        text-align: right;\n",
       "    }\n",
       "</style>\n",
       "<table border=\"1\" class=\"dataframe\">\n",
       "  <thead>\n",
       "    <tr style=\"text-align: right;\">\n",
       "      <th></th>\n",
       "      <th>input</th>\n",
       "      <th>output</th>\n",
       "    </tr>\n",
       "  </thead>\n",
       "  <tbody>\n",
       "    <tr>\n",
       "      <th>0</th>\n",
       "      <td>Prediksi emosi yang terdapat di dalam kalimat ...</td>\n",
       "      <td>Tanpa emosi</td>\n",
       "    </tr>\n",
       "    <tr>\n",
       "      <th>1</th>\n",
       "      <td>Prediksi emosi yang terdapat di dalam kalimat ...</td>\n",
       "      <td>Tanpa emosi</td>\n",
       "    </tr>\n",
       "    <tr>\n",
       "      <th>2</th>\n",
       "      <td>Prediksi emosi yang terdapat di dalam kalimat ...</td>\n",
       "      <td>Tanpa emosi</td>\n",
       "    </tr>\n",
       "    <tr>\n",
       "      <th>3</th>\n",
       "      <td>Prediksi emosi yang terdapat di dalam kalimat ...</td>\n",
       "      <td>Tanpa emosi</td>\n",
       "    </tr>\n",
       "    <tr>\n",
       "      <th>4</th>\n",
       "      <td>Prediksi emosi yang terdapat di dalam kalimat ...</td>\n",
       "      <td>Tanpa emosi</td>\n",
       "    </tr>\n",
       "  </tbody>\n",
       "</table>\n",
       "</div>"
      ],
      "text/plain": [
       "                                               input       output\n",
       "0  Prediksi emosi yang terdapat di dalam kalimat ...  Tanpa emosi\n",
       "1  Prediksi emosi yang terdapat di dalam kalimat ...  Tanpa emosi\n",
       "2  Prediksi emosi yang terdapat di dalam kalimat ...  Tanpa emosi\n",
       "3  Prediksi emosi yang terdapat di dalam kalimat ...  Tanpa emosi\n",
       "4  Prediksi emosi yang terdapat di dalam kalimat ...  Tanpa emosi"
      ]
     },
     "execution_count": 9,
     "metadata": {},
     "output_type": "execute_result"
    }
   ],
   "source": [
    "df.head()"
   ]
  },
  {
   "cell_type": "code",
   "execution_count": 10,
   "metadata": {},
   "outputs": [],
   "source": [
    "df = df[[\"input\",\"output\"]]"
   ]
  },
  {
   "cell_type": "code",
   "execution_count": 11,
   "metadata": {},
   "outputs": [
    {
     "data": {
      "text/html": [
       "<div>\n",
       "<style scoped>\n",
       "    .dataframe tbody tr th:only-of-type {\n",
       "        vertical-align: middle;\n",
       "    }\n",
       "\n",
       "    .dataframe tbody tr th {\n",
       "        vertical-align: top;\n",
       "    }\n",
       "\n",
       "    .dataframe thead th {\n",
       "        text-align: right;\n",
       "    }\n",
       "</style>\n",
       "<table border=\"1\" class=\"dataframe\">\n",
       "  <thead>\n",
       "    <tr style=\"text-align: right;\">\n",
       "      <th></th>\n",
       "      <th>input</th>\n",
       "      <th>output</th>\n",
       "    </tr>\n",
       "  </thead>\n",
       "  <tbody>\n",
       "    <tr>\n",
       "      <th>0</th>\n",
       "      <td>Prediksi emosi yang terdapat di dalam kalimat ...</td>\n",
       "      <td>Tanpa emosi</td>\n",
       "    </tr>\n",
       "    <tr>\n",
       "      <th>1</th>\n",
       "      <td>Prediksi emosi yang terdapat di dalam kalimat ...</td>\n",
       "      <td>Tanpa emosi</td>\n",
       "    </tr>\n",
       "    <tr>\n",
       "      <th>2</th>\n",
       "      <td>Prediksi emosi yang terdapat di dalam kalimat ...</td>\n",
       "      <td>Tanpa emosi</td>\n",
       "    </tr>\n",
       "    <tr>\n",
       "      <th>3</th>\n",
       "      <td>Prediksi emosi yang terdapat di dalam kalimat ...</td>\n",
       "      <td>Tanpa emosi</td>\n",
       "    </tr>\n",
       "    <tr>\n",
       "      <th>4</th>\n",
       "      <td>Prediksi emosi yang terdapat di dalam kalimat ...</td>\n",
       "      <td>Tanpa emosi</td>\n",
       "    </tr>\n",
       "  </tbody>\n",
       "</table>\n",
       "</div>"
      ],
      "text/plain": [
       "                                               input       output\n",
       "0  Prediksi emosi yang terdapat di dalam kalimat ...  Tanpa emosi\n",
       "1  Prediksi emosi yang terdapat di dalam kalimat ...  Tanpa emosi\n",
       "2  Prediksi emosi yang terdapat di dalam kalimat ...  Tanpa emosi\n",
       "3  Prediksi emosi yang terdapat di dalam kalimat ...  Tanpa emosi\n",
       "4  Prediksi emosi yang terdapat di dalam kalimat ...  Tanpa emosi"
      ]
     },
     "execution_count": 11,
     "metadata": {},
     "output_type": "execute_result"
    }
   ],
   "source": [
    "df.head()"
   ]
  },
  {
   "cell_type": "code",
   "execution_count": 12,
   "metadata": {},
   "outputs": [],
   "source": [
    "df.to_csv(\"../interim/data.csv\",index=False)"
   ]
  },
  {
   "cell_type": "code",
   "execution_count": null,
   "metadata": {},
   "outputs": [],
   "source": []
  }
 ],
 "metadata": {
  "kernelspec": {
   "display_name": "base",
   "language": "python",
   "name": "python3"
  },
  "language_info": {
   "codemirror_mode": {
    "name": "ipython",
    "version": 3
   },
   "file_extension": ".py",
   "mimetype": "text/x-python",
   "name": "python",
   "nbconvert_exporter": "python",
   "pygments_lexer": "ipython3",
   "version": "3.9.7"
  },
  "orig_nbformat": 4
 },
 "nbformat": 4,
 "nbformat_minor": 2
}
