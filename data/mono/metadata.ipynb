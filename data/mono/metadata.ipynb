{
 "cells": [
  {
   "cell_type": "code",
   "execution_count": 1,
   "metadata": {},
   "outputs": [
    {
     "name": "stdout",
     "output_type": "stream",
     "text": [
      "aste_data_v2_16res/train_triplets.txt | train | 1394\n",
      "aste_data_v2_16res/dev_triplets.txt | dev | 339\n",
      "aste_data_v2_16res/test_triplets.txt | test | 514\n",
      "aste_data_v2_15res/train_triplets.txt | train | 1013\n",
      "aste_data_v2_15res/dev_triplets.txt | dev | 249\n",
      "aste_data_v2_15res/test_triplets.txt | test | 485\n",
      "aste_data_v2_14res/train_triplets.txt | train | 2338\n",
      "aste_data_v2_14res/dev_triplets.txt | dev | 577\n",
      "aste_data_v2_14res/test_triplets.txt | test | 994\n",
      "aste_data_v2_14lap/train_triplets.txt | train | 1460\n",
      "aste_data_v2_14lap/dev_triplets.txt | dev | 346\n",
      "aste_data_v2_14lap/test_triplets.txt | test | 543\n"
     ]
    }
   ],
   "source": [
    "import os\n",
    "\n",
    "zhang = [el for el in os.listdir() if 'aste' in el]\n",
    "split = [\"train\",\"dev\",\"test\"]\n",
    "for el in zhang:\n",
    "    for s in split:\n",
    "        path = el + '/' + s + \"_triplets.txt\"\n",
    "        with open(path,'r') as f:\n",
    "            data = f.read().strip().splitlines()\n",
    "        n_triplets = 0\n",
    "        for line in data:\n",
    "            triplet = eval(line.split(\"####\")[1])\n",
    "            n_triplets += len(triplet)\n",
    "        print(path,'|',s,'|',n_triplets)"
   ]
  },
  {
   "cell_type": "code",
   "execution_count": 2,
   "metadata": {},
   "outputs": [
    {
     "name": "stdout",
     "output_type": "stream",
     "text": [
      "hotel_id_v2/train.txt | train | 6257\n",
      "hotel_id_v2/dev.txt | dev | 1989\n",
      "hotel_id_v2/test.txt | test | 2291\n"
     ]
    }
   ],
   "source": [
    "for s in split:\n",
    "    path = 'hotel_id_v2/' + s + \".txt\"\n",
    "    with open(path,'r') as f:\n",
    "        data = f.read().strip().splitlines()\n",
    "    n_triplets = 0\n",
    "    for line in data:\n",
    "        triplet = eval(line.split(\"####\")[1])\n",
    "        n_triplets += len(triplet)\n",
    "    print(path,'|',s,'|',n_triplets)"
   ]
  },
  {
   "cell_type": "code",
   "execution_count": 3,
   "metadata": {},
   "outputs": [],
   "source": [
    "split = [\"train\",\"val\",\"test\"]"
   ]
  },
  {
   "cell_type": "code",
   "execution_count": 4,
   "metadata": {},
   "outputs": [
    {
     "name": "stdout",
     "output_type": "stream",
     "text": [
      "news/interim_combine/gaste_format/train.txt | train | 2436\n",
      "news/interim_combine/gaste_format/val.txt | val | 301\n",
      "news/interim_combine/gaste_format/test.txt | test | 328\n"
     ]
    }
   ],
   "source": [
    "for s in split:\n",
    "    path = 'news/interim_combine/gaste_format/' + s + \".txt\"\n",
    "    with open(path,'r') as f:\n",
    "        data = f.read().strip().splitlines()\n",
    "    n_triplets = 0\n",
    "    for line in data:\n",
    "        triplet = eval(line.split(\"####\")[1])\n",
    "        n_triplets += len(triplet)\n",
    "    print(path,'|',s,'|',n_triplets)"
   ]
  },
  {
   "cell_type": "code",
   "execution_count": 5,
   "metadata": {},
   "outputs": [
    {
     "name": "stdout",
     "output_type": "stream",
     "text": [
      "socmed_20/interim_combine/gaste_format/train.txt | train | 14226\n",
      "socmed_20/interim_combine/gaste_format/val.txt | val | 1782\n",
      "socmed_20/interim_combine/gaste_format/test.txt | test | 1771\n"
     ]
    }
   ],
   "source": [
    "for s in split:\n",
    "    path = 'socmed_20/interim_combine/gaste_format/' + s + \".txt\"\n",
    "    with open(path,'r') as f:\n",
    "        data = f.read().strip().splitlines()\n",
    "    n_triplets = 0\n",
    "    for line in data:\n",
    "        triplet = eval(line.split(\"####\")[1])\n",
    "        n_triplets += len(triplet)\n",
    "    print(path,'|',s,'|',n_triplets)"
   ]
  },
  {
   "cell_type": "code",
   "execution_count": null,
   "metadata": {},
   "outputs": [],
   "source": []
  }
 ],
 "metadata": {
  "kernelspec": {
   "display_name": "absa",
   "language": "python",
   "name": "python3"
  },
  "language_info": {
   "codemirror_mode": {
    "name": "ipython",
    "version": 3
   },
   "file_extension": ".py",
   "mimetype": "text/x-python",
   "name": "python",
   "nbconvert_exporter": "python",
   "pygments_lexer": "ipython3",
   "version": "3.9.13 (main, Oct 13 2022, 21:15:33) \n[GCC 11.2.0]"
  },
  "orig_nbformat": 4,
  "vscode": {
   "interpreter": {
    "hash": "5b39f2579f8b6cd4576fdc137fdffaab644b0ca009c2f95d260a904125131941"
   }
  }
 },
 "nbformat": 4,
 "nbformat_minor": 2
}
