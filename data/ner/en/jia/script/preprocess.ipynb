{
 "cells": [
  {
   "cell_type": "code",
   "execution_count": 59,
   "metadata": {},
   "outputs": [],
   "source": [
    "import pandas as pd\n",
    "import random"
   ]
  },
  {
   "cell_type": "code",
   "execution_count": 60,
   "metadata": {},
   "outputs": [],
   "source": [
    "path = \"../interim/interim_1/tech_test.txt\"\n",
    "\n",
    "with open(path,'r') as reader:\n",
    "    data = reader.read().strip().split('\\n\\n')"
   ]
  },
  {
   "cell_type": "code",
   "execution_count": 61,
   "metadata": {},
   "outputs": [
    {
     "data": {
      "text/plain": [
       "['Gab S-ORG\\nappears O\\nto O\\nbe O\\nlosing O\\ninvestors O\\nafter O\\nPittsburgh S-LOC\\nshooting O',\n",
       " 'Gab S-ORG\\n, O\\na O\\nsocial O\\nmedia O\\nplatform O\\npopular O\\nwith O\\nfar-right O\\nextremists O\\n, O\\nappears O\\nto O\\nhave O\\nlost O\\nmore O\\nthan O\\nthree O\\ndozen O\\nsmall O\\ninvestors O\\nin O\\nthe O\\nfour O\\ndays O\\nsince O\\na O\\nman O\\nposted O\\non O\\nthe O\\nsite O\\n, O\\n\" O\\nScrew O\\nyour O\\noptics O\\n, O\\nI O\\n\\'m O\\ngoing O\\nin O\\n, O\\n\" O\\nand O\\nthen O\\nallegedlyburst O\\ninto O\\na O\\nPittsburgh S-LOC\\nsynagogue O\\nand O\\nopened O\\nfire O\\n, O\\nkilling O\\n11 O\\npeople O\\nand O\\ninjuring O\\nsix O\\nothers O\\n. O']"
      ]
     },
     "execution_count": 61,
     "metadata": {},
     "output_type": "execute_result"
    }
   ],
   "source": [
    "data[:2]"
   ]
  },
  {
   "cell_type": "code",
   "execution_count": 62,
   "metadata": {},
   "outputs": [],
   "source": [
    "for i in range(len(data)):\n",
    "    line = data[i].strip()\n",
    "    splitted_line = line.split('\\n')\n",
    "    result_line = []\n",
    "    for j,token_bio_tag in enumerate(splitted_line):\n",
    "        try:\n",
    "            token, bio_tag = token_bio_tag.split()\n",
    "        except Exception as e:\n",
    "            print(token_bio_tag)\n",
    "            print(line)\n",
    "            print(j)\n",
    "            print(splitted_line[24:26])\n",
    "            raise e\n",
    "        bio_tag = bio_tag.replace(\"S-\",\"B-\")\n",
    "        bio_tag = bio_tag.replace(\"E-\",\"I-\")\n",
    "        result_line.append(f\"{bio_tag}\\t{token}\")\n",
    "    result_line = '\\n'.join(result_line)\n",
    "    data[i] = result_line"
   ]
  },
  {
   "cell_type": "code",
   "execution_count": 63,
   "metadata": {},
   "outputs": [
    {
     "data": {
      "text/plain": [
       "['B-ORG\\tGab\\nO\\tappears\\nO\\tto\\nO\\tbe\\nO\\tlosing\\nO\\tinvestors\\nO\\tafter\\nB-LOC\\tPittsburgh\\nO\\tshooting',\n",
       " 'B-ORG\\tGab\\nO\\t,\\nO\\ta\\nO\\tsocial\\nO\\tmedia\\nO\\tplatform\\nO\\tpopular\\nO\\twith\\nO\\tfar-right\\nO\\textremists\\nO\\t,\\nO\\tappears\\nO\\tto\\nO\\thave\\nO\\tlost\\nO\\tmore\\nO\\tthan\\nO\\tthree\\nO\\tdozen\\nO\\tsmall\\nO\\tinvestors\\nO\\tin\\nO\\tthe\\nO\\tfour\\nO\\tdays\\nO\\tsince\\nO\\ta\\nO\\tman\\nO\\tposted\\nO\\ton\\nO\\tthe\\nO\\tsite\\nO\\t,\\nO\\t\"\\nO\\tScrew\\nO\\tyour\\nO\\toptics\\nO\\t,\\nO\\tI\\nO\\t\\'m\\nO\\tgoing\\nO\\tin\\nO\\t,\\nO\\t\"\\nO\\tand\\nO\\tthen\\nO\\tallegedlyburst\\nO\\tinto\\nO\\ta\\nB-LOC\\tPittsburgh\\nO\\tsynagogue\\nO\\tand\\nO\\topened\\nO\\tfire\\nO\\t,\\nO\\tkilling\\nO\\t11\\nO\\tpeople\\nO\\tand\\nO\\tinjuring\\nO\\tsix\\nO\\tothers\\nO\\t.',\n",
       " 'O\\tIn\\nO\\tthe\\nO\\tdays\\nO\\tsince\\nB-ORG\\tGab\\nO\\trose\\nO\\tto\\nO\\tnational\\nO\\tprominence\\nO\\tbecause\\nO\\tof\\nO\\tthe\\nO\\tviolent\\nO\\tand\\nB-MISC\\tanti-Semitic\\nO\\tpostings\\nO\\tmade\\nO\\tby\\nO\\taccused\\nO\\tshooter\\nB-PER\\tRobert\\nI-PER\\tBowers\\nO\\t,\\nO\\tthe\\nO\\tsite\\nO\\twas\\nO\\ttaken\\nO\\tdown\\nO\\t,\\nO\\tand\\nO\\ta\\nO\\tcount\\nO\\tof\\nO\\tits\\nO\\tinvestors\\nO\\ton\\nO\\ta\\nO\\tcrowdfunding\\nO\\tpage\\nO\\thas\\nO\\tslowly\\nO\\tdeclined\\nO\\t.']"
      ]
     },
     "execution_count": 63,
     "metadata": {},
     "output_type": "execute_result"
    }
   ],
   "source": [
    "data[:3]"
   ]
  },
  {
   "cell_type": "code",
   "execution_count": 64,
   "metadata": {},
   "outputs": [],
   "source": [
    "def preprocess_line(line):\n",
    "    splitted_line = line.split('\\n')\n",
    "    text = []\n",
    "    named_entity = {}\n",
    "    prev_bio_tag = None\n",
    "    current_named_entity = []\n",
    "    for bio_tag_token in splitted_line:\n",
    "        bio_tag, token = bio_tag_token.split('\\t')\n",
    "        text.append(token)\n",
    "\n",
    "        # 1. if bio tag is B\n",
    "        #   1.1. prev tag is None\n",
    "        #   1.2. prev tag is O\n",
    "        #   1.3. prev tag is B\n",
    "        #       1.3.1. prev tag label is same\n",
    "        #       1.3.2. prev tag label is different\n",
    "        #   1.4. prev tag is I\n",
    "        #       1.4.1. prev tag label is same\n",
    "        #       1.4.2. prev tag label is different\n",
    "        # 2. if bio tag is I\n",
    "        #   2.1. prev tag is None\n",
    "        #   2.2. prev tag is O\n",
    "        #   2.3. prev tag is B\n",
    "        #       2.3.1. prev tag label is same\n",
    "        #       2.3.2. prev tag label is different\n",
    "        #   2.4. prev tag is I\n",
    "        #       2.4.1. prev tag label is same\n",
    "        #       2.4.2. prev tag label is different\n",
    "        # 3. if bio tag is O\n",
    "        #   3.1. prev tag is None\n",
    "        #   3.2. prev tag is O\n",
    "        #   3.3. prev tag is B\n",
    "        #   3.4. prev tag is I\n",
    "        if bio_tag.startswith(\"B-\"):\n",
    "            if prev_bio_tag == None:\n",
    "                # Append token\n",
    "                current_named_entity.append(token)\n",
    "            elif prev_bio_tag == 'O':\n",
    "                # Append token\n",
    "                current_named_entity.append(token)\n",
    "            elif prev_bio_tag.startswith(\"B-\"):\n",
    "                tag_label = bio_tag[2:]\n",
    "                prev_tag_label = prev_bio_tag[2:]\n",
    "                if tag_label == prev_tag_label:\n",
    "                    if not prev_tag_label in named_entity.keys():\n",
    "                        named_entity[prev_tag_label] = []\n",
    "                    named_entity[prev_tag_label].append(' '.join(current_named_entity))\n",
    "                    current_named_entity = [token]\n",
    "                else:\n",
    "                    if not prev_tag_label in named_entity.keys():\n",
    "                        named_entity[prev_tag_label] = []\n",
    "                    named_entity[prev_tag_label].append(' '.join(current_named_entity))\n",
    "                    current_named_entity = [token]\n",
    "            elif prev_bio_tag.startswith(\"I-\"):\n",
    "                tag_label = bio_tag[2:]\n",
    "                prev_tag_label = prev_bio_tag[2:]\n",
    "                if tag_label == prev_tag_label:\n",
    "                    if not prev_tag_label in named_entity.keys():\n",
    "                        named_entity[prev_tag_label] = []\n",
    "                    named_entity[prev_tag_label].append(' '.join(current_named_entity))\n",
    "                    current_named_entity = [token]\n",
    "                else:\n",
    "                    if not prev_tag_label in named_entity.keys():\n",
    "                        named_entity[prev_tag_label] = []\n",
    "                    named_entity[prev_tag_label].append(' '.join(current_named_entity))\n",
    "                    current_named_entity = [token]\n",
    "        elif bio_tag.startswith(\"I-\"):\n",
    "            if prev_bio_tag == None:\n",
    "                raise Exception(f\"I token cannot begin a named entity phrase | line : {line}\")\n",
    "            elif prev_bio_tag == 'O':\n",
    "                raise Exception(f\"I token cannot begin a named entity phrase | line : {line}\")\n",
    "            elif prev_bio_tag.startswith(\"B-\"):\n",
    "                tag_label = bio_tag[2:]\n",
    "                prev_tag_label = prev_bio_tag[2:]\n",
    "                if tag_label == prev_tag_label:\n",
    "                    # Append token\n",
    "                    current_named_entity.append(token)\n",
    "                else:\n",
    "                    raise Exception(f\"I token cannot align with B token with different label | line : {line}\")\n",
    "            elif prev_bio_tag.startswith(\"I-\"):\n",
    "                tag_label = bio_tag[2:]\n",
    "                prev_tag_label = prev_bio_tag[2:]\n",
    "                if tag_label == prev_tag_label:\n",
    "                    # Append token\n",
    "                    current_named_entity.append(token)\n",
    "                else:\n",
    "                    raise Exception(f\"I token cannot align with I token with different label | line : {line}\")\n",
    "        elif bio_tag == 'O':\n",
    "            if prev_bio_tag == None:\n",
    "                pass\n",
    "            elif prev_bio_tag == 'O':\n",
    "                pass\n",
    "            elif prev_bio_tag.startswith(\"B-\"):\n",
    "                prev_tag_label = prev_bio_tag[2:]\n",
    "                if not prev_tag_label in named_entity.keys():\n",
    "                    named_entity[prev_tag_label] = []\n",
    "                named_entity[prev_tag_label].append(' '.join(current_named_entity))\n",
    "                current_named_entity = []\n",
    "            elif prev_bio_tag.startswith(\"I-\"):\n",
    "                prev_tag_label = prev_bio_tag[2:]\n",
    "                if not prev_tag_label in named_entity.keys():\n",
    "                    named_entity[prev_tag_label] = []\n",
    "                named_entity[prev_tag_label].append(' '.join(current_named_entity))\n",
    "                current_named_entity = []\n",
    "        else:\n",
    "            raise Exception(f\"Unknown tag {bio_tag}\")\n",
    "        prev_bio_tag = bio_tag\n",
    "    \n",
    "    if prev_bio_tag != 'O': # last token\n",
    "        prev_tag_label = prev_bio_tag[2:]\n",
    "        if not prev_tag_label in named_entity.keys():\n",
    "            named_entity[prev_tag_label] = []\n",
    "        named_entity[prev_tag_label].append(' '.join(current_named_entity))\n",
    "        current_named_entity = []\n",
    "    \n",
    "    return ' '.join(text), named_entity"
   ]
  },
  {
   "cell_type": "code",
   "execution_count": 65,
   "metadata": {},
   "outputs": [],
   "source": [
    "data = [preprocess_line(line) for line in data]"
   ]
  },
  {
   "cell_type": "code",
   "execution_count": 67,
   "metadata": {},
   "outputs": [
    {
     "data": {
      "text/plain": [
       "[('Gab appears to be losing investors after Pittsburgh shooting',\n",
       "  {'ORG': ['Gab'], 'LOC': ['Pittsburgh']}),\n",
       " ('Gab , a social media platform popular with far-right extremists , appears to have lost more than three dozen small investors in the four days since a man posted on the site , \" Screw your optics , I \\'m going in , \" and then allegedlyburst into a Pittsburgh synagogue and opened fire , killing 11 people and injuring six others .',\n",
       "  {'ORG': ['Gab'], 'LOC': ['Pittsburgh']}),\n",
       " ('In the days since Gab rose to national prominence because of the violent and anti-Semitic postings made by accused shooter Robert Bowers , the site was taken down , and a count of its investors on a crowdfunding page has slowly declined .',\n",
       "  {'ORG': ['Gab'], 'MISC': ['anti-Semitic'], 'PER': ['Robert Bowers']}),\n",
       " ('On the website StartEngine.com , Gab is soliciting investments of at least $ 252 for \" $ 4/share of Class B Non-Voting Common Stock deliverable in token form ( the \\' GAB Tokens \\' ) . \"',\n",
       "  {'ORG': ['Gab', 'GAB']}),\n",
       " ('A cached image of the page shows the fundraising drive , which began on Sept. 19 , had at least $ 1,068,484.87 from 1,279 investors as of Saturday night.',\n",
       "  {})]"
      ]
     },
     "execution_count": 67,
     "metadata": {},
     "output_type": "execute_result"
    }
   ],
   "source": [
    "data[:5]"
   ]
  },
  {
   "cell_type": "code",
   "execution_count": 68,
   "metadata": {},
   "outputs": [],
   "source": [
    "value_counts = {}\n",
    "for el in data:\n",
    "    text, named_entity = el\n",
    "    for k,v in named_entity.items():\n",
    "        if k not in value_counts.keys():\n",
    "            value_counts[k] = 0\n",
    "        value_counts[k] += len(v)"
   ]
  },
  {
   "cell_type": "code",
   "execution_count": 69,
   "metadata": {},
   "outputs": [
    {
     "data": {
      "text/plain": [
       "{'ORG': 875, 'LOC': 489, 'MISC': 365, 'PER': 1094}"
      ]
     },
     "execution_count": 69,
     "metadata": {},
     "output_type": "execute_result"
    }
   ],
   "source": [
    "value_counts"
   ]
  },
  {
   "cell_type": "code",
   "execution_count": 70,
   "metadata": {},
   "outputs": [],
   "source": [
    "for el in data:\n",
    "    if \"MISC\" in el[1].keys():\n",
    "        del el[1][\"MISC\"]"
   ]
  },
  {
   "cell_type": "code",
   "execution_count": 71,
   "metadata": {},
   "outputs": [],
   "source": [
    "value_counts = {}\n",
    "for el in data:\n",
    "    text, named_entity = el\n",
    "    for k,v in named_entity.items():\n",
    "        if k not in value_counts.keys():\n",
    "            value_counts[k] = 0\n",
    "        value_counts[k] += len(v)"
   ]
  },
  {
   "cell_type": "code",
   "execution_count": 72,
   "metadata": {},
   "outputs": [
    {
     "data": {
      "text/plain": [
       "{'ORG': 875, 'LOC': 489, 'PER': 1094}"
      ]
     },
     "execution_count": 72,
     "metadata": {},
     "output_type": "execute_result"
    }
   ],
   "source": [
    "value_counts"
   ]
  },
  {
   "cell_type": "code",
   "execution_count": 73,
   "metadata": {},
   "outputs": [],
   "source": [
    "named_entity_map = {\n",
    "    \"ORG\" : \"Organization\",\n",
    "    \"LOC\" : \"Location\",\n",
    "    \"PER\" : \"Person\"\n",
    "}"
   ]
  },
  {
   "cell_type": "code",
   "execution_count": 74,
   "metadata": {},
   "outputs": [],
   "source": [
    "data_frame = []\n",
    "for el in data:\n",
    "    text, named_entity = el\n",
    "    if len(named_entity) > 0:\n",
    "        chosen_named_entity = max(named_entity,key=lambda x : value_counts[x])\n",
    "        output = named_entity[chosen_named_entity]\n",
    "    else:\n",
    "        chosen_named_entity = random.choice(list(value_counts.keys()))\n",
    "        output = \"NONE\"\n",
    "    chosen_named_entity = chosen_named_entity.replace('_',' ')\n",
    "    prompt = f\"Extract all the {named_entity_map[chosen_named_entity]} entity in the text\"\n",
    "    if output != \"NONE\":\n",
    "        output = ' , '.join(output)\n",
    "    data_frame.append({\n",
    "        \"prompt\" : prompt,\n",
    "        \"text\" : text,\n",
    "        \"output\" : output,\n",
    "        \"named_entity\" : chosen_named_entity\n",
    "    })\n",
    "data_frame = pd.DataFrame(data_frame)"
   ]
  },
  {
   "cell_type": "code",
   "execution_count": 75,
   "metadata": {},
   "outputs": [
    {
     "data": {
      "text/html": [
       "<div>\n",
       "<style scoped>\n",
       "    .dataframe tbody tr th:only-of-type {\n",
       "        vertical-align: middle;\n",
       "    }\n",
       "\n",
       "    .dataframe tbody tr th {\n",
       "        vertical-align: top;\n",
       "    }\n",
       "\n",
       "    .dataframe thead th {\n",
       "        text-align: right;\n",
       "    }\n",
       "</style>\n",
       "<table border=\"1\" class=\"dataframe\">\n",
       "  <thead>\n",
       "    <tr style=\"text-align: right;\">\n",
       "      <th></th>\n",
       "      <th>prompt</th>\n",
       "      <th>text</th>\n",
       "      <th>output</th>\n",
       "      <th>named_entity</th>\n",
       "    </tr>\n",
       "  </thead>\n",
       "  <tbody>\n",
       "    <tr>\n",
       "      <th>0</th>\n",
       "      <td>Extract all the Organization entity in the text</td>\n",
       "      <td>Gab appears to be losing investors after Pitts...</td>\n",
       "      <td>Gab</td>\n",
       "      <td>ORG</td>\n",
       "    </tr>\n",
       "    <tr>\n",
       "      <th>1</th>\n",
       "      <td>Extract all the Organization entity in the text</td>\n",
       "      <td>Gab , a social media platform popular with far...</td>\n",
       "      <td>Gab</td>\n",
       "      <td>ORG</td>\n",
       "    </tr>\n",
       "    <tr>\n",
       "      <th>2</th>\n",
       "      <td>Extract all the Person entity in the text</td>\n",
       "      <td>In the days since Gab rose to national promine...</td>\n",
       "      <td>Robert Bowers</td>\n",
       "      <td>PER</td>\n",
       "    </tr>\n",
       "    <tr>\n",
       "      <th>3</th>\n",
       "      <td>Extract all the Organization entity in the text</td>\n",
       "      <td>On the website StartEngine.com , Gab is solici...</td>\n",
       "      <td>Gab , GAB</td>\n",
       "      <td>ORG</td>\n",
       "    </tr>\n",
       "    <tr>\n",
       "      <th>4</th>\n",
       "      <td>Extract all the Location entity in the text</td>\n",
       "      <td>A cached image of the page shows the fundraisi...</td>\n",
       "      <td>NONE</td>\n",
       "      <td>LOC</td>\n",
       "    </tr>\n",
       "    <tr>\n",
       "      <th>...</th>\n",
       "      <td>...</td>\n",
       "      <td>...</td>\n",
       "      <td>...</td>\n",
       "      <td>...</td>\n",
       "    </tr>\n",
       "    <tr>\n",
       "      <th>1995</th>\n",
       "      <td>Extract all the Person entity in the text</td>\n",
       "      <td>In his Senate hearing last month , Zuckerberg ...</td>\n",
       "      <td>Zuckerberg</td>\n",
       "      <td>PER</td>\n",
       "    </tr>\n",
       "    <tr>\n",
       "      <th>1996</th>\n",
       "      <td>Extract all the Person entity in the text</td>\n",
       "      <td>Zuckerberg faced a broad range of questions in...</td>\n",
       "      <td>Zuckerberg</td>\n",
       "      <td>PER</td>\n",
       "    </tr>\n",
       "    <tr>\n",
       "      <th>1997</th>\n",
       "      <td>Extract all the Organization entity in the text</td>\n",
       "      <td>Under questioning by U.S. lawmakers , the tech...</td>\n",
       "      <td>Facebook</td>\n",
       "      <td>ORG</td>\n",
       "    </tr>\n",
       "    <tr>\n",
       "      <th>1998</th>\n",
       "      <td>Extract all the Organization entity in the text</td>\n",
       "      <td>Yet he acknowledged that he did n't expect a r...</td>\n",
       "      <td>Facebook , Cambridge Analytica</td>\n",
       "      <td>ORG</td>\n",
       "    </tr>\n",
       "    <tr>\n",
       "      <th>1999</th>\n",
       "      <td>Extract all the Person entity in the text</td>\n",
       "      <td>Zuckerberg is expected to adhere to a similar ...</td>\n",
       "      <td>Zuckerberg</td>\n",
       "      <td>PER</td>\n",
       "    </tr>\n",
       "  </tbody>\n",
       "</table>\n",
       "<p>2000 rows × 4 columns</p>\n",
       "</div>"
      ],
      "text/plain": [
       "                                               prompt  \\\n",
       "0     Extract all the Organization entity in the text   \n",
       "1     Extract all the Organization entity in the text   \n",
       "2           Extract all the Person entity in the text   \n",
       "3     Extract all the Organization entity in the text   \n",
       "4         Extract all the Location entity in the text   \n",
       "...                                               ...   \n",
       "1995        Extract all the Person entity in the text   \n",
       "1996        Extract all the Person entity in the text   \n",
       "1997  Extract all the Organization entity in the text   \n",
       "1998  Extract all the Organization entity in the text   \n",
       "1999        Extract all the Person entity in the text   \n",
       "\n",
       "                                                   text  \\\n",
       "0     Gab appears to be losing investors after Pitts...   \n",
       "1     Gab , a social media platform popular with far...   \n",
       "2     In the days since Gab rose to national promine...   \n",
       "3     On the website StartEngine.com , Gab is solici...   \n",
       "4     A cached image of the page shows the fundraisi...   \n",
       "...                                                 ...   \n",
       "1995  In his Senate hearing last month , Zuckerberg ...   \n",
       "1996  Zuckerberg faced a broad range of questions in...   \n",
       "1997  Under questioning by U.S. lawmakers , the tech...   \n",
       "1998  Yet he acknowledged that he did n't expect a r...   \n",
       "1999  Zuckerberg is expected to adhere to a similar ...   \n",
       "\n",
       "                              output named_entity  \n",
       "0                                Gab          ORG  \n",
       "1                                Gab          ORG  \n",
       "2                      Robert Bowers          PER  \n",
       "3                          Gab , GAB          ORG  \n",
       "4                               NONE          LOC  \n",
       "...                              ...          ...  \n",
       "1995                      Zuckerberg          PER  \n",
       "1996                      Zuckerberg          PER  \n",
       "1997                        Facebook          ORG  \n",
       "1998  Facebook , Cambridge Analytica          ORG  \n",
       "1999                      Zuckerberg          PER  \n",
       "\n",
       "[2000 rows x 4 columns]"
      ]
     },
     "execution_count": 75,
     "metadata": {},
     "output_type": "execute_result"
    }
   ],
   "source": [
    "data_frame"
   ]
  },
  {
   "cell_type": "code",
   "execution_count": 76,
   "metadata": {},
   "outputs": [
    {
     "data": {
      "text/plain": [
       "PER    1077\n",
       "ORG     560\n",
       "LOC     363\n",
       "Name: named_entity, dtype: int64"
      ]
     },
     "execution_count": 76,
     "metadata": {},
     "output_type": "execute_result"
    }
   ],
   "source": [
    "data_frame.named_entity.value_counts()"
   ]
  },
  {
   "cell_type": "code",
   "execution_count": 78,
   "metadata": {},
   "outputs": [],
   "source": [
    "data_frame = data_frame[[\"prompt\",\"text\",\"output\"]]\n",
    "data_frame.to_csv(\"../interim/interim_2/tech.csv\",index=False)"
   ]
  },
  {
   "cell_type": "code",
   "execution_count": null,
   "metadata": {},
   "outputs": [],
   "source": []
  }
 ],
 "metadata": {
  "kernelspec": {
   "display_name": "base",
   "language": "python",
   "name": "python3"
  },
  "language_info": {
   "codemirror_mode": {
    "name": "ipython",
    "version": 3
   },
   "file_extension": ".py",
   "mimetype": "text/x-python",
   "name": "python",
   "nbconvert_exporter": "python",
   "pygments_lexer": "ipython3",
   "version": "3.9.7"
  },
  "orig_nbformat": 4,
  "vscode": {
   "interpreter": {
    "hash": "f5045f1ed516028e6ba3c78ae58e34f2955ee8afe7e35fc1835a968676e80520"
   }
  }
 },
 "nbformat": 4,
 "nbformat_minor": 2
}
