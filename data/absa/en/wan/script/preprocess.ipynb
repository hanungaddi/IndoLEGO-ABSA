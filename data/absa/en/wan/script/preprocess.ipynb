{
 "cells": [
  {
   "cell_type": "code",
   "execution_count": 39,
   "metadata": {},
   "outputs": [],
   "source": [
    "import os\n",
    "\n",
    "data_dir = \"../raw\"\n",
    "datasets = os.listdir(data_dir)"
   ]
  },
  {
   "cell_type": "code",
   "execution_count": 80,
   "metadata": {},
   "outputs": [],
   "source": [
    "import re\n",
    "def preprocess_text(text):\n",
    "    # text = text.replace('-',\" - \")\n",
    "    # text = text.replace('\\'',\" ' \")\n",
    "    for symbol in ['-','\\'','(',')','/',',','+','\"']:\n",
    "        text = text.replace(symbol,f\" {symbol} \")\n",
    "    text = re.sub(r\"\\s+\",' ',text).strip()\n",
    "    return text"
   ]
  },
  {
   "cell_type": "code",
   "execution_count": 81,
   "metadata": {},
   "outputs": [],
   "source": [
    "polarity_dict = {\n",
    "    \"positive\" : \"POS\",\n",
    "    \"negative\" : \"NEG\",\n",
    "    \"neutral\" : \"NEU\"\n",
    "}\n",
    "def transform_to_num_target(text,targets):\n",
    "    result_num_targets = []\n",
    "    splitted_text = text.split()\n",
    "    for target in targets:\n",
    "        aspect_term, aspect_category, polarity = target\n",
    "        aspect_term = preprocess_text(aspect_term)\n",
    "        splitted_aspect_term = aspect_term.split()\n",
    "        resulting_index = []\n",
    "        if aspect_term != \"NULL\":\n",
    "            for i in range(0,len(splitted_text)-len(splitted_aspect_term)+1):\n",
    "                window = splitted_text[i:i+len(splitted_aspect_term)]\n",
    "                if ' '.join(window) == aspect_term:\n",
    "                    resulting_index = [i+j for j in range(len(splitted_aspect_term))]\n",
    "                    break\n",
    "        else:\n",
    "            resulting_index = [-1]\n",
    "        try:\n",
    "            polarity = polarity_dict[polarity]\n",
    "        except Exception as e:\n",
    "            print(polarity)\n",
    "            raise e\n",
    "        if len(resulting_index) == 0:\n",
    "            raise Exception(f\"Resulting index cannot be blank, text : {text} | target : {target}\")\n",
    "        result_num_targets.append((resulting_index,aspect_category,polarity))\n",
    "    return result_num_targets"
   ]
  },
  {
   "cell_type": "code",
   "execution_count": 82,
   "metadata": {},
   "outputs": [],
   "source": [
    "sample = \"The wait staff is very courteous and accomodating .####[('wait staff', 'service general', 'positive')]\"\n",
    "text, targets = sample.split(\"####\")\n",
    "targets = eval(targets)"
   ]
  },
  {
   "cell_type": "code",
   "execution_count": 83,
   "metadata": {},
   "outputs": [
    {
     "data": {
      "text/plain": [
       "[([1, 2], 'service general', 'POS')]"
      ]
     },
     "execution_count": 83,
     "metadata": {},
     "output_type": "execute_result"
    }
   ],
   "source": [
    "transform_to_num_target(text,targets)"
   ]
  },
  {
   "cell_type": "code",
   "execution_count": 84,
   "metadata": {},
   "outputs": [
    {
     "data": {
      "text/plain": [
       "'Food - awesome'"
      ]
     },
     "execution_count": 84,
     "metadata": {},
     "output_type": "execute_result"
    }
   ],
   "source": [
    "preprocess_text(\"Food-awesome\")"
   ]
  },
  {
   "cell_type": "code",
   "execution_count": 86,
   "metadata": {},
   "outputs": [
    {
     "name": "stdout",
     "output_type": "stream",
     "text": [
      "../raw\\rest15\\train.txt\n",
      "../raw\\rest15\\dev.txt\n",
      "../raw\\rest15\\test.txt\n",
      "../raw\\rest16\\train.txt\n",
      "../raw\\rest16\\dev.txt\n",
      "../raw\\rest16\\test.txt\n"
     ]
    }
   ],
   "source": [
    "output_dir = \"../interim\"\n",
    "data_split = [\"train.txt\",\"dev.txt\",\"test.txt\"]\n",
    "for ds in datasets:\n",
    "    for split in data_split:\n",
    "        result_data = []\n",
    "        path = os.path.join(data_dir,ds,split)\n",
    "        print(path)\n",
    "        output_path = os.path.join(output_dir,ds)\n",
    "        if not os.path.exists(output_path):\n",
    "            os.makedirs(output_path)\n",
    "        with open(path,'r') as reader:\n",
    "            data = reader.read().strip().split('\\n')\n",
    "        for line in data:\n",
    "            try:\n",
    "                text, targets = line.split(\"####\")\n",
    "            except Exception as e:\n",
    "                print(line)\n",
    "                raise e\n",
    "            text = preprocess_text(text)\n",
    "            targets = eval(targets)\n",
    "            targets = transform_to_num_target(text,targets)\n",
    "            result_data.append(f\"{text}####{targets}\")\n",
    "        with open(os.path.join(output_path,split),'w') as writer:\n",
    "            for line in result_data:\n",
    "                writer.write(line + '\\n')"
   ]
  },
  {
   "cell_type": "code",
   "execution_count": null,
   "metadata": {},
   "outputs": [],
   "source": []
  }
 ],
 "metadata": {
  "kernelspec": {
   "display_name": "base",
   "language": "python",
   "name": "python3"
  },
  "language_info": {
   "codemirror_mode": {
    "name": "ipython",
    "version": 3
   },
   "file_extension": ".py",
   "mimetype": "text/x-python",
   "name": "python",
   "nbconvert_exporter": "python",
   "pygments_lexer": "ipython3",
   "version": "3.9.7"
  },
  "orig_nbformat": 4,
  "vscode": {
   "interpreter": {
    "hash": "f5045f1ed516028e6ba3c78ae58e34f2955ee8afe7e35fc1835a968676e80520"
   }
  }
 },
 "nbformat": 4,
 "nbformat_minor": 2
}
