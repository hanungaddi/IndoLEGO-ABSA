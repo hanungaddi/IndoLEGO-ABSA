{
 "cells": [
  {
   "cell_type": "code",
   "execution_count": 4,
   "metadata": {},
   "outputs": [],
   "source": [
    "import os\n",
    "import json\n",
    "import pandas as pd\n",
    "import numpy as np\n",
    "import matplotlib.pyplot as plt\n",
    "\n",
    "news_path = \"./news\"\n",
    "socmed_path = \"./socmed/\"\n",
    "\n",
    "news_listdir = os.listdir(news_path)\n",
    "socmed_listdir = os.listdir(socmed_path)\n",
    "\n",
    "news = {}\n",
    "socmed = {}\n",
    "\n",
    "for fname in news_listdir:\n",
    "    k = fname[:-5]\n",
    "    news[k] = json.load(open(os.path.join(news_path,fname),'r'))\n",
    "for fname in socmed_listdir:\n",
    "    k = fname[:-5]\n",
    "    socmed[k] = json.load(open(os.path.join(socmed_path,fname),'r'))"
   ]
  },
  {
   "cell_type": "code",
   "execution_count": 8,
   "metadata": {},
   "outputs": [],
   "source": [
    "def average_dict(list_of_dictionary):\n",
    "    keys = list_of_dictionary[0].keys()\n",
    "    result = {k : 0 for k in keys}\n",
    "    for el in list_of_dictionary:\n",
    "        for k in keys:\n",
    "            result[k] += el[k]\n",
    "    for k in keys:\n",
    "        result[k] = result[k]/len(list_of_dictionary)\n",
    "    return result\n",
    "\n",
    "news_avg = {}\n",
    "socmed_avg = {}\n",
    "\n",
    "fixing = ['raw','editdistance','cut','remove']\n",
    "\n",
    "for f in fixing:\n",
    "    news_avg[f] = []\n",
    "    socmed_avg[f] = []\n",
    "    for fname,scores in news.items():\n",
    "        news_avg[f].append(scores[f])\n",
    "    for fname,scores in socmed.items():\n",
    "        socmed_avg[f].append(scores[f])"
   ]
  },
  {
   "cell_type": "code",
   "execution_count": 10,
   "metadata": {},
   "outputs": [],
   "source": [
    "for k in news_avg.keys():\n",
    "    news_avg[k] = average_dict(news_avg[k])\n",
    "\n",
    "for k in socmed_avg.keys():\n",
    "    socmed_avg[k] = average_dict(socmed_avg[k])"
   ]
  },
  {
   "cell_type": "code",
   "execution_count": 12,
   "metadata": {},
   "outputs": [
    {
     "data": {
      "text/plain": [
       "{'raw': {'precision': 0.5199101306099164,\n",
       "  'recall': 0.5298524404086266,\n",
       "  'f1': 0.5248295989586056,\n",
       "  'edit_recall': 0.7615073266097491,\n",
       "  'edit_precision': 0.7312645536831701,\n",
       "  'edit_f1': 0.746073624787934},\n",
       " 'editdistance': {'precision': 0.5249208793584,\n",
       "  'recall': 0.5349602724177072,\n",
       "  'f1': 0.5298883804298937,\n",
       "  'edit_recall': 0.7619677367752032,\n",
       "  'edit_precision': 0.7316533069720076,\n",
       "  'edit_f1': 0.7464969868358067},\n",
       " 'cut': {'precision': 0.5249208793584,\n",
       "  'recall': 0.5349602724177072,\n",
       "  'f1': 0.5298883804298937,\n",
       "  'edit_recall': 0.7619677367752032,\n",
       "  'edit_precision': 0.7316533069720076,\n",
       "  'edit_f1': 0.7464969868358067},\n",
       " 'remove': {'precision': 0.5199101306099164,\n",
       "  'recall': 0.5298524404086266,\n",
       "  'f1': 0.5248295989586056,\n",
       "  'edit_recall': 0.7615073266097491,\n",
       "  'edit_precision': 0.7312645536831701,\n",
       "  'edit_f1': 0.746073624787934}}"
      ]
     },
     "execution_count": 12,
     "metadata": {},
     "output_type": "execute_result"
    }
   ],
   "source": [
    "socmed_avg"
   ]
  },
  {
   "cell_type": "code",
   "execution_count": 13,
   "metadata": {},
   "outputs": [],
   "source": [
    "# convert to file\n",
    "json.dump(news_avg,open(\"./news/score.json\",'w'))\n",
    "json.dump(socmed_avg,open(\"./socmed/score.json\",'w'))"
   ]
  },
  {
   "cell_type": "code",
   "execution_count": null,
   "metadata": {},
   "outputs": [],
   "source": []
  }
 ],
 "metadata": {
  "kernelspec": {
   "display_name": "Python 3.9.13 ('absa')",
   "language": "python",
   "name": "python3"
  },
  "language_info": {
   "codemirror_mode": {
    "name": "ipython",
    "version": 3
   },
   "file_extension": ".py",
   "mimetype": "text/x-python",
   "name": "python",
   "nbconvert_exporter": "python",
   "pygments_lexer": "ipython3",
   "version": "3.9.13"
  },
  "orig_nbformat": 4,
  "vscode": {
   "interpreter": {
    "hash": "5b39f2579f8b6cd4576fdc137fdffaab644b0ca009c2f95d260a904125131941"
   }
  }
 },
 "nbformat": 4,
 "nbformat_minor": 2
}
