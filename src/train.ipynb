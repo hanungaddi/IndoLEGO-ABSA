{
 "cells": [
  {
   "cell_type": "code",
   "execution_count": 1,
   "metadata": {},
   "outputs": [],
   "source": [
    "import random\n",
    "import numpy as np\n",
    "import torch\n",
    "\n",
    "def set_seed(seed: int):\n",
    "    \"\"\"Set the seed for reproducibility across multiple libraries.\"\"\"\n",
    "    random.seed(seed)\n",
    "    np.random.seed(seed)\n",
    "    torch.manual_seed(seed)\n",
    "    torch.cuda.manual_seed_all(seed)\n",
    "\n",
    "set_seed(42)"
   ]
  },
  {
   "attachments": {},
   "cell_type": "markdown",
   "metadata": {},
   "source": [
    "# Data"
   ]
  },
  {
   "cell_type": "code",
   "execution_count": 2,
   "metadata": {},
   "outputs": [],
   "source": [
    "import data_utils\n",
    "train_path = \"../data/absa/id/william/train.txt\"\n",
    "val_path = \"../data/absa/id/william/dev.txt\"\n",
    "test_path = \"../data/absa/id/william/test.txt\"\n",
    "\n",
    "train = data_utils.read_data(train_path)\n",
    "val = data_utils.read_data(val_path)\n",
    "test = data_utils.read_data(test_path)"
   ]
  },
  {
   "cell_type": "code",
   "execution_count": 3,
   "metadata": {},
   "outputs": [],
   "source": [
    "train_tasks = [\n",
    "    {\n",
    "        \"paradigm\" : \"extraction\",\n",
    "        \"se_order\" : \"oa\",\n",
    "        \"method\" : \"lego_absa\"\n",
    "    },\n",
    "    {\n",
    "        \"paradigm\" : \"extraction\",\n",
    "        \"se_order\" : \"as\",\n",
    "        \"method\" : \"lego_absa\"\n",
    "    },\n",
    "    {\n",
    "        \"paradigm\" : \"imputation\",\n",
    "        \"reduced_se_order\" : \"oa\",\n",
    "        \"se_order\" : \"oas\",\n",
    "        \"method\" : \"lego_absa\"\n",
    "    },\n",
    "    {\n",
    "        \"paradigm\" : \"imputation\",\n",
    "        \"reduced_se_order\" : \"as\",\n",
    "        \"se_order\" : \"oas\",\n",
    "        \"method\" : \"lego_absa\"\n",
    "    },\n",
    "]\n",
    "\n",
    "val_tasks = [\n",
    "    {\n",
    "        \"paradigm\" : \"extraction\",\n",
    "        \"se_order\" : \"oas\",\n",
    "        \"method\" : \"lego_absa\"\n",
    "    }\n",
    "]\n",
    "\n",
    "test_tasks = [\n",
    "    {\n",
    "        \"paradigm\" : \"extraction\",\n",
    "        \"se_order\" : \"oas\",\n",
    "        \"method\" : \"lego_absa\"\n",
    "    }\n",
    "]"
   ]
  },
  {
   "cell_type": "code",
   "execution_count": 4,
   "metadata": {},
   "outputs": [
    {
     "name": "stderr",
     "output_type": "stream",
     "text": [
      "100%|██████████| 12000/12000 [00:00<00:00, 13552.43it/s]\n",
      "100%|██████████| 1000/1000 [00:00<00:00, 20212.54it/s]\n",
      "100%|██████████| 1000/1000 [00:00<00:00, 15953.63it/s]\n"
     ]
    }
   ],
   "source": [
    "train_ds = data_utils.data_gen(data=train, nt_se_order=\"aos\", tasks=train_tasks, n_fold=4, algo=\"round_robin\")\n",
    "val_ds = data_utils.data_gen(data=val, nt_se_order=\"aos\", tasks=val_tasks, n_fold=1, algo=\"round_robin\")\n",
    "test_tasks = data_utils.data_gen(data=test, nt_se_order=\"aos\", tasks=test_tasks, n_fold=1, algo=\"round_robin\")"
   ]
  },
  {
   "cell_type": "code",
   "execution_count": 5,
   "metadata": {},
   "outputs": [
    {
     "data": {
      "text/plain": [
       "{'input': 'kamar saya ada kendala di ac tidak berfungsi optimal . dan juga wifi koneksi kurang stabil .| opinion : <extra_id_0> ,aspect : <extra_id_1>',\n",
       " 'output': '<extra_id_0> tidak berfungsi optimal <extra_id_1> ac ; <extra_id_2> kurang stabil <extra_id_3> wifi koneksi',\n",
       " 'se_order': 'oa'}"
      ]
     },
     "execution_count": 5,
     "metadata": {},
     "output_type": "execute_result"
    }
   ],
   "source": [
    "train_ds[0]"
   ]
  },
  {
   "attachments": {},
   "cell_type": "markdown",
   "metadata": {},
   "source": [
    "# Train"
   ]
  },
  {
   "cell_type": "code",
   "execution_count": null,
   "metadata": {},
   "outputs": [],
   "source": []
  }
 ],
 "metadata": {
  "kernelspec": {
   "display_name": "base",
   "language": "python",
   "name": "python3"
  },
  "language_info": {
   "codemirror_mode": {
    "name": "ipython",
    "version": 3
   },
   "file_extension": ".py",
   "mimetype": "text/x-python",
   "name": "python",
   "nbconvert_exporter": "python",
   "pygments_lexer": "ipython3",
   "version": "3.9.12"
  },
  "orig_nbformat": 4
 },
 "nbformat": 4,
 "nbformat_minor": 2
}
