{
 "cells": [
  {
   "cell_type": "code",
   "execution_count": 1,
   "metadata": {},
   "outputs": [],
   "source": [
    "import preprocess\n",
    "import postprocess\n",
    "\n",
    "data_reader = preprocess.DataReader()\n",
    "data_augmentator = preprocess.DataAugmentator()\n",
    "answer_catcher = postprocess.AnswerCatcher()\n",
    "path = \"/raid/m13519061/ta/facebook-absa/data/absa/id/william/train.txt\""
   ]
  },
  {
   "cell_type": "code",
   "execution_count": 2,
   "metadata": {},
   "outputs": [],
   "source": [
    "data = data_reader.do(path)"
   ]
  },
  {
   "cell_type": "code",
   "execution_count": 4,
   "metadata": {},
   "outputs": [
    {
     "data": {
      "text/plain": [
       "[{'se_order': 'aos', 'prompt': 'lego_absa', 'answer': 'lego_absa'},\n",
       " {'se_order': 'ao', 'prompt': 'lego_absa', 'answer': 'lego_absa'},\n",
       " {'se_order': 'as', 'prompt': 'lego_absa', 'answer': 'lego_absa'},\n",
       " {'se_order': 'a', 'prompt': 'lego_absa', 'answer': 'lego_absa'},\n",
       " {'se_order': 'o', 'prompt': 'lego_absa', 'answer': 'lego_absa'}]"
      ]
     },
     "execution_count": 4,
     "metadata": {},
     "output_type": "execute_result"
    }
   ],
   "source": [
    "all_task = data_augmentator.task_example()\n",
    "all_task"
   ]
  },
  {
   "cell_type": "code",
   "execution_count": 15,
   "metadata": {},
   "outputs": [],
   "source": [
    "def tasks(id):\n",
    "    res = []\n",
    "    for i in id:\n",
    "        res.append(all_task[i])\n",
    "    return res"
   ]
  },
  {
   "cell_type": "code",
   "execution_count": 19,
   "metadata": {},
   "outputs": [],
   "source": [
    "def n_triplet(aug_data):\n",
    "    n = 0\n",
    "    for el in aug_data:\n",
    "        tuples = answer_catcher.lego_absa(el[\"output\"], el[\"se_order\"], \"\")\n",
    "        n += len(tuples)\n",
    "    return n"
   ]
  },
  {
   "cell_type": "code",
   "execution_count": 42,
   "metadata": {},
   "outputs": [],
   "source": [
    "augmentation_args = {\n",
    "    \"data\" : data,\n",
    "    \"nt_se_order\" : \"aos\",\n",
    "    \"tasks\" : all_task,\n",
    "    \"n_fold\" : 3,\n",
    "    \"algo\" : \"random\",\n",
    "    \"shuffle\" : True\n",
    "}"
   ]
  },
  {
   "cell_type": "code",
   "execution_count": 43,
   "metadata": {},
   "outputs": [],
   "source": [
    "import utils\n",
    "utils.set_seed(42)"
   ]
  },
  {
   "cell_type": "code",
   "execution_count": 44,
   "metadata": {},
   "outputs": [
    {
     "name": "stderr",
     "output_type": "stream",
     "text": [
      "100%|██████████| 9000/9000 [00:01<00:00, 5048.21it/s] \n"
     ]
    }
   ],
   "source": [
    "augmented_data = data_augmentator.do(**augmentation_args)"
   ]
  },
  {
   "cell_type": "code",
   "execution_count": 45,
   "metadata": {},
   "outputs": [
    {
     "data": {
      "text/plain": [
       "16919"
      ]
     },
     "execution_count": 45,
     "metadata": {},
     "output_type": "execute_result"
    }
   ],
   "source": [
    "n_triplet(augmented_data)"
   ]
  },
  {
   "cell_type": "code",
   "execution_count": 46,
   "metadata": {},
   "outputs": [
    {
     "data": {
      "text/plain": [
       "7260"
      ]
     },
     "execution_count": 46,
     "metadata": {},
     "output_type": "execute_result"
    }
   ],
   "source": [
    "len(augmented_data)"
   ]
  },
  {
   "cell_type": "code",
   "execution_count": null,
   "metadata": {},
   "outputs": [],
   "source": []
  }
 ],
 "metadata": {
  "kernelspec": {
   "display_name": "absa",
   "language": "python",
   "name": "python3"
  },
  "language_info": {
   "codemirror_mode": {
    "name": "ipython",
    "version": 3
   },
   "file_extension": ".py",
   "mimetype": "text/x-python",
   "name": "python",
   "nbconvert_exporter": "python",
   "pygments_lexer": "ipython3",
   "version": "3.9.16"
  },
  "orig_nbformat": 4
 },
 "nbformat": 4,
 "nbformat_minor": 2
}
